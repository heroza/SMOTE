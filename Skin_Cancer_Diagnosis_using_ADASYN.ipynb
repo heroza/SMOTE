{
  "cells": [
    {
      "cell_type": "markdown",
      "metadata": {
        "id": "view-in-github",
        "colab_type": "text"
      },
      "source": [
        "<a href=\"https://colab.research.google.com/github/heroza/SMOTE/blob/main/Skin_Cancer_Diagnosis_using_ADASYN.ipynb\" target=\"_parent\"><img src=\"https://colab.research.google.com/assets/colab-badge.svg\" alt=\"Open In Colab\"/></a>"
      ]
    },
    {
      "cell_type": "code",
      "execution_count": 1,
      "metadata": {
        "colab": {
          "base_uri": "https://localhost:8080/"
        },
        "id": "Eus_4tUgfEk9",
        "outputId": "ebc70ece-a4e5-4f72-f80e-cd2d3e71ffec"
      },
      "outputs": [
        {
          "output_type": "stream",
          "name": "stdout",
          "text": [
            "Mounted at /content/drive\n"
          ]
        }
      ],
      "source": [
        "from google.colab import drive\n",
        "drive.mount('/content/drive')"
      ]
    },
    {
      "cell_type": "markdown",
      "metadata": {
        "id": "E_x4c0_DTkaa"
      },
      "source": [
        "#Library, atribut, and function"
      ]
    },
    {
      "cell_type": "code",
      "execution_count": 2,
      "metadata": {
        "colab": {
          "base_uri": "https://localhost:8080/"
        },
        "id": "nR2MJBYq-oiB",
        "outputId": "61e4c31d-30de-45fe-879e-c64c38efe320"
      },
      "outputs": [
        {
          "output_type": "stream",
          "name": "stdout",
          "text": [
            "Looking in indexes: https://pypi.org/simple, https://us-python.pkg.dev/colab-wheels/public/simple/\n",
            "Requirement already satisfied: imbalanced-learn in /usr/local/lib/python3.7/dist-packages (0.8.1)\n",
            "Requirement already satisfied: numpy>=1.13.3 in /usr/local/lib/python3.7/dist-packages (from imbalanced-learn) (1.21.6)\n",
            "Requirement already satisfied: scipy>=0.19.1 in /usr/local/lib/python3.7/dist-packages (from imbalanced-learn) (1.7.3)\n",
            "Requirement already satisfied: scikit-learn>=0.24 in /usr/local/lib/python3.7/dist-packages (from imbalanced-learn) (1.0.2)\n",
            "Requirement already satisfied: joblib>=0.11 in /usr/local/lib/python3.7/dist-packages (from imbalanced-learn) (1.1.0)\n",
            "Requirement already satisfied: threadpoolctl>=2.0.0 in /usr/local/lib/python3.7/dist-packages (from scikit-learn>=0.24->imbalanced-learn) (3.1.0)\n"
          ]
        }
      ],
      "source": [
        "import pandas as pd\n",
        "import numpy as np\n",
        "import tensorflow as tf\n",
        "import matplotlib.pyplot as plt\n",
        "import seaborn as sns\n",
        "import os\n",
        "from collections import Counter\n",
        "from pathlib import Path\n",
        "from PIL import Image\n",
        "from sklearn import preprocessing\n",
        "from sklearn.metrics import precision_recall_fscore_support, balanced_accuracy_score, confusion_matrix, accuracy_score\n",
        "from keras.callbacks import ReduceLROnPlateau, EarlyStopping, ModelCheckpoint\n",
        "from keras.preprocessing.image import ImageDataGenerator\n",
        "from keras.models import Sequential\n",
        "from keras.layers import Conv2D, MaxPooling2D, UpSampling2D\n",
        "from tensorflow import keras\n",
        "from tensorflow.keras import layers\n",
        "from tensorflow.keras.optimizers import Adam, SGD\n",
        "from tensorflow.keras.preprocessing import image\n",
        "from tensorflow.keras.applications.resnet50 import ResNet50, preprocess_input, decode_predictions\n",
        "from tensorflow.keras.applications.inception_v3 import InceptionV3, preprocess_input\n",
        "from tensorflow.keras.layers import GlobalAveragePooling2D, Dense, Input, Dropout, Flatten\n",
        "from tensorflow.keras.models import Model, load_model\n",
        "from keras.utils.np_utils import to_categorical\n",
        "\n",
        "!pip install imbalanced-learn\n",
        "import imblearn\n",
        "from imblearn.over_sampling import SMOTE, BorderlineSMOTE, SVMSMOTE, ADASYN, KMeansSMOTE"
      ]
    },
    {
      "cell_type": "code",
      "execution_count": 3,
      "metadata": {
        "id": "9-c7Xghg4SB4"
      },
      "outputs": [],
      "source": [
        "# input image size\n",
        "IMAGE_W = 224\n",
        "IMAGE_H = 224\n",
        "IMG_SIZE = (IMAGE_W,IMAGE_H)\n",
        "num_classes = 7\n",
        "EPOCHS = 300\n",
        "BATCH_SIZE = 64\n",
        "opt_adam = Adam(learning_rate=0.001, beta_1=0.9, beta_2=0.999, epsilon=None, decay=0.0, amsgrad=False)\n",
        "opt_SGD = SGD(learning_rate=0.001)\n",
        "the_arch = 'resnet50'\n",
        "\n",
        "#Data augmentation\n",
        "data_augmentation = tf.keras.Sequential([\n",
        "  layers.experimental.preprocessing.RandomFlip(\"horizontal_and_vertical\"),\n",
        "  layers.experimental.preprocessing.RandomRotation(0.2), \n",
        "  layers.experimental.preprocessing.RandomZoom(height_factor=(0.2, 0.3), width_factor=(0.2, 0.3)),\n",
        "  layers.experimental.preprocessing.RandomTranslation(0.3, 0.3, fill_mode='reflect', interpolation='bilinear',)\n",
        "])\n",
        "\n",
        "#Callbacks\n",
        "best_model_fpath = '/content/drive/MyDrive/PHD/Model/best_model_no.h5'\n",
        "last_model_fpath = '/content/drive/MyDrive/PHD/Model/last_model_no.h5'\n",
        "mc = ModelCheckpoint(best_model_fpath, monitor='val_balanced_acc', mode='max', verbose=1, save_best_only=True)\n",
        "learning_rate_reduction = ReduceLROnPlateau(monitor='val_balanced_acc', patience=50, verbose=1, factor=0.5, min_lr=0.00001)\n",
        "early_stopping_monitor = EarlyStopping(patience=50,monitor='val_balanced_acc')\n"
      ]
    },
    {
      "cell_type": "code",
      "execution_count": 4,
      "metadata": {
        "id": "JffFid9sOXeo"
      },
      "outputs": [],
      "source": [
        "# load train and test dataset\n",
        "def preprocess_image_input(input_images, arch = the_arch):\n",
        "  input_images = input_images.astype('float32')\n",
        "  if arch == 'inception_v3':\n",
        "    output_ims = tf.keras.applications.inception_v3.preprocess_input(input_images)\n",
        "  else:\n",
        "    output_ims = tf.keras.applications.resnet50.preprocess_input(input_images)\n",
        "  return output_ims\n",
        "\n",
        "def load_cifar10_dataset():\n",
        "  from keras.datasets import cifar10\n",
        "    # load dataset\n",
        "  (X_train, y_train), (X_val, y_val) = cifar10.load_data()\n",
        "    # one hot encode target values\n",
        "  y_train = to_categorical(y_train)\n",
        "  y_val = to_categorical(y_val)\n",
        "\n",
        "  return X_train, y_train, X_val, y_val\n",
        "\n",
        "def balanced_acc(y_true, y_pred):\n",
        "    from keras import backend as K\n",
        "\n",
        "    tensor1 = tf.math.argmax(y_true, axis=1)\n",
        "    tensor2 = tf.math.argmax(y_pred, axis=1)\n",
        "\n",
        "    cm = tf.math.confusion_matrix(tensor1, tensor2)\n",
        "    \n",
        "    diag = tf.linalg.tensor_diag_part (cm)\n",
        "    tpfn = tf.cast(K.sum(cm, axis = 1), tf.float32) + K.epsilon()\n",
        "    recall = tf.divide(tf.cast(diag, tf.float32),tpfn)\n",
        "    balanced_acc = K.mean(recall)\n",
        "    return balanced_acc\n",
        "\n",
        "def define_model():\n",
        "    model = Sequential()\n",
        "    model.add(Conv2D(32, (3, 3), activation='relu', kernel_initializer='he_uniform', padding='same', input_shape=(32, 32, 3)))\n",
        "    model.add(Conv2D(32, (3, 3), activation='relu', kernel_initializer='he_uniform', padding='same'))\n",
        "    model.add(MaxPooling2D((2, 2)))\n",
        "    model.add(Flatten())\n",
        "    model.add(Dense(128, activation='relu', kernel_initializer='he_uniform'))\n",
        "    model.add(Dense(10, activation='softmax'))\n",
        "    # compile model\n",
        "    opt = SGD(learning_rate=0.001, momentum=0.9)\n",
        "    model.compile(optimizer=opt, loss='categorical_crossentropy', metrics=['accuracy'])\n",
        "    return model\n",
        "\n",
        "def define_base_model(arch = the_arch, start_trainable_layer = 9999):\n",
        "  #x = UpSampling2D(size=(7,7))(input_tensor)\n",
        "  #x = data_augmentation(input_tensor)\n",
        "  #x = layers.Rescaling(1.0 / 255)(input_tensor)  # Rescale inputs\n",
        "  if arch != 'dense':\n",
        "    input_tensor = Input(shape=(IMAGE_H, IMAGE_W, 3))\n",
        "    if arch == 'resnet50':\n",
        "      base_model = ResNet50(input_tensor=input_tensor, weights='imagenet', include_top=False)\n",
        "    elif arch == 'inception_v3':\n",
        "      base_model = InceptionV3(input_tensor=input_tensor, weights='imagenet', include_top=False)\n",
        "    x = base_model.output\n",
        "    x = GlobalAveragePooling2D()(x)\n",
        "    for layer in base_model.layers:\n",
        "      layer.trainable = False\n",
        "    if start_trainable_layer != 9999:\n",
        "      for layer in base_model.layers[start_trainable_layer:]:\n",
        "        layer.trainable = True\n",
        "  else:\n",
        "    input_tensor = Input(shape=(2048))\n",
        "    x = input_tensor\n",
        "  #x = Flatten()(x)\n",
        "  x = Dense(1024, activation='relu')(x)\n",
        "  x = Dropout(0.2)(x)\n",
        "  x = Dense(512, activation='relu')(x)\n",
        "  predictions = Dense(num_classes, activation='softmax')(x)\n",
        "  model = Model(inputs=input_tensor, outputs=predictions)\n",
        "  model.compile(optimizer = opt_SGD , loss = \"categorical_crossentropy\", metrics=['accuracy', balanced_acc])\n",
        "  return model\n",
        "\n",
        "# plot diagnostic learning curves\n",
        "def summarize_diagnostics(history):\n",
        "    # plot loss\n",
        "    plt.subplot(211)\n",
        "    plt.title('Cross Entropy Loss')\n",
        "    plt.plot(history.history['loss'], color='blue', label='train')\n",
        "    plt.plot(history.history['val_loss'], color='orange', label='test')\n",
        "    # plot accuracy\n",
        "    plt.subplot(212)\n",
        "    plt.title('Classification Accuracy')\n",
        "    plt.plot(history.history['accuracy'], color='blue', label='train')\n",
        "    plt.plot(history.history['val_accuracy'], color='orange', label='test')\n",
        " \n",
        "# scale pixels\n",
        "def norm_pixels(train, test):\n",
        "    # convert from integers to floats\n",
        "    train_norm = train.astype('float32')\n",
        "    test_norm = test.astype('float32')\n",
        "    # normalize to range 0-1\n",
        "    train_norm = train_norm / 255.0\n",
        "    test_norm = test_norm / 255.0\n",
        "    # return normalized images\n",
        "    return train_norm, test_norm\n",
        "\n",
        "def load_isic2018_dataset(train_under_frac = 0):\n",
        "  df_train = pd.read_csv('/content/drive/MyDrive/PHD/Datasets/isic2018/ISIC2018_Task3_Training_GroundTruth/ISIC2018_Task3_Training_GroundTruth.csv') \n",
        "  df_val = pd.read_csv('/content/drive/MyDrive/PHD/Datasets/isic2018/ISIC2018_Task3_Validation_GroundTruth/ISIC2018_Task3_Validation_GroundTruth.csv') \n",
        "\n",
        "  #decode one hot label\n",
        "  df_train[\"Labels\"] = (df_train.iloc[:, 1:]).idxmax(axis=1)\n",
        "  df_val[\"Labels\"] = (df_val.iloc[:, 1:]).idxmax(axis=1)\n",
        "\n",
        "  #random undersampling for training dataset\n",
        "  if train_under_frac !=0:\n",
        "    df_train = df_train.drop(df_train[df_train['Labels'] == 'NV'].sample(frac=train_under_frac).index)\n",
        "\n",
        "  #drop one-hot column\n",
        "  df_train = df_train.drop(columns=['MEL', 'NV', 'BCC', 'AKIEC', 'BKL', 'DF', 'VASC'])\n",
        "  df_val = df_val.drop(columns=['MEL', 'NV', 'BCC', 'AKIEC', 'BKL', 'DF', 'VASC'])\n",
        "\n",
        "  #make filepaths of the image\n",
        "  dir_train = '/content/drive/MyDrive/PHD/Datasets/isic2018/ISIC2018_Task3_Training_Input/'\n",
        "  dir_val = '/content/drive/MyDrive/PHD/Datasets/isic2018/ISIC2018_Task3_Validation_Input/'\n",
        "  df_train['FilePaths'] = dir_train + df_train['image'] + '.jpg'\n",
        "  df_val['FilePaths'] = dir_val + df_val['image'] + '.jpg'\n",
        "  \n",
        "  #load image pixels to dataframe\n",
        "  df_train['image_px'] = df_train['FilePaths'].map(lambda x: np.asarray(Image.open(x).resize(IMG_SIZE)))\n",
        "  df_val['image_px'] = df_val['FilePaths'].map(lambda x: np.asarray(Image.open(x).resize(IMG_SIZE)))\n",
        "\n",
        "  X_train = np.asarray(df_train['image_px'].tolist())\n",
        "  X_val = np.asarray(df_val['image_px'].tolist())\n",
        "  y_train = np.array(df_train['Labels'].values)\n",
        "  y_val = np.array(df_val['Labels'].values)\n",
        "\n",
        "  label_encoder = preprocessing.LabelEncoder()\n",
        "  y_train = label_encoder.fit_transform(y_train)\n",
        "  y_val = label_encoder.fit_transform(y_val)\n",
        "  \n",
        "  y_train = to_categorical(y_train, num_classes = num_classes)\n",
        "  y_val = to_categorical(y_val, num_classes = num_classes)\n",
        "\n",
        "  return X_train, y_train, X_val, y_val, df_train, df_val\n",
        "\n",
        "def reset_dataset(df_train, df_val):\n",
        "  X_train = np.asarray(df_train['image_px'].tolist())\n",
        "  X_val = np.asarray(df_val['image_px'].tolist())\n",
        "  y_train = np.array(df_train['Labels'].values)\n",
        "  y_val = np.array(df_val['Labels'].values)\n",
        "\n",
        "  X_train = preprocess_image_input(X_train, the_arch)\n",
        "  X_val = preprocess_image_input(X_val, the_arch)\n",
        "\n",
        "  label_encoder = preprocessing.LabelEncoder()\n",
        "  y_train = label_encoder.fit_transform(y_train)\n",
        "  y_val = label_encoder.fit_transform(y_val)\n",
        "  \n",
        "  y_train = to_categorical(y_train, num_classes = num_classes)\n",
        "  y_val = to_categorical(y_val, num_classes = num_classes)\n",
        "  return X_train, y_train, X_val, y_val\n",
        "\n",
        "def SMOTE_Data(X, y, one_hot = False, k = 5, width = IMAGE_W, height = IMAGE_H, c = 3, type = 'smote'):\n",
        "  if one_hot:\n",
        "    y = np.argmax(y, axis=1)\n",
        "  if type == 'borderline':\n",
        "    sm = BorderlineSMOTE()\n",
        "  elif type == 'svm':\n",
        "    sm = SVMSMOTE()\n",
        "  elif type == 'adasyn':\n",
        "    sm = ADASYN()\n",
        "  elif type == 'kmeans':\n",
        "    sm = KMeansSMOTE()\n",
        "  else:\n",
        "    sm = SMOTE(random_state=42, k_neighbors=k)\n",
        "  X_resampled, y_resampled = sm.fit_resample(X.reshape((-1, width * height * c)), y)\n",
        "  X_resampled = X_resampled.reshape(-1, width, height, c)\n",
        "  if one_hot:\n",
        "    y_resampled = to_categorical(y_resampled, num_classes = num_classes)\n",
        "  else:\n",
        "    y_resampled = y_resampled.reshape(-1,1)\n",
        "  return X_resampled, y_resampled\n",
        "\n",
        "def SMOTE_Data2(X, y, one_hot = False, k = 5):\n",
        "  if one_hot:\n",
        "    y = np.argmax(y, axis=1)\n",
        "  sm = SMOTE(random_state=42, k_neighbors=k)\n",
        "  X_resampled, y_resampled = sm.fit_resample(X, y)\n",
        "  if one_hot:\n",
        "    y_resampled = to_categorical(y_resampled, num_classes = num_classes)\n",
        "  else:\n",
        "    y_resampled = y_resampled.reshape(-1,1)\n",
        "  return X_resampled, y_resampled"
      ]
    },
    {
      "cell_type": "markdown",
      "source": [
        "#Exp"
      ],
      "metadata": {
        "id": "UswA0co2y1wl"
      }
    },
    {
      "cell_type": "code",
      "source": [
        "input_tensor = Input(shape=(IMAGE_H, IMAGE_W, 3))\n",
        "base_model = ResNet50(input_shape=(224,224,3), weights='imagenet', include_top=False)\n",
        "x = base_model(input_tensor, training=False)\n",
        "x = GlobalAveragePooling2D()(x)\n",
        "res50 = Model(inputs=input_tensor, outputs=x)"
      ],
      "metadata": {
        "id": "dnqJYIONy34l"
      },
      "execution_count": null,
      "outputs": []
    },
    {
      "cell_type": "code",
      "source": [
        "#Train i-last layer\n",
        "# summarize feature map shapes\n",
        "for i in range(len(base_model.layers)):\n",
        "    layer = base_model.layers[i]\n",
        "    # summarize output shape\n",
        "    print(i, layer.name, layer.output.shape)"
      ],
      "metadata": {
        "colab": {
          "base_uri": "https://localhost:8080/"
        },
        "id": "Kcn8hQg3J8yP",
        "outputId": "3fcb951e-1661-41a0-9076-832eb4fd3e53"
      },
      "execution_count": null,
      "outputs": [
        {
          "output_type": "stream",
          "name": "stdout",
          "text": [
            "0 input_8 (None, 224, 224, 3)\n",
            "1 conv1_pad (None, 230, 230, 3)\n",
            "2 conv1_conv (None, 112, 112, 64)\n",
            "3 conv1_bn (None, 112, 112, 64)\n",
            "4 conv1_relu (None, 112, 112, 64)\n",
            "5 pool1_pad (None, 114, 114, 64)\n",
            "6 pool1_pool (None, 56, 56, 64)\n",
            "7 conv2_block1_1_conv (None, 56, 56, 64)\n",
            "8 conv2_block1_1_bn (None, 56, 56, 64)\n",
            "9 conv2_block1_1_relu (None, 56, 56, 64)\n",
            "10 conv2_block1_2_conv (None, 56, 56, 64)\n",
            "11 conv2_block1_2_bn (None, 56, 56, 64)\n",
            "12 conv2_block1_2_relu (None, 56, 56, 64)\n",
            "13 conv2_block1_0_conv (None, 56, 56, 256)\n",
            "14 conv2_block1_3_conv (None, 56, 56, 256)\n",
            "15 conv2_block1_0_bn (None, 56, 56, 256)\n",
            "16 conv2_block1_3_bn (None, 56, 56, 256)\n",
            "17 conv2_block1_add (None, 56, 56, 256)\n",
            "18 conv2_block1_out (None, 56, 56, 256)\n",
            "19 conv2_block2_1_conv (None, 56, 56, 64)\n",
            "20 conv2_block2_1_bn (None, 56, 56, 64)\n",
            "21 conv2_block2_1_relu (None, 56, 56, 64)\n",
            "22 conv2_block2_2_conv (None, 56, 56, 64)\n",
            "23 conv2_block2_2_bn (None, 56, 56, 64)\n",
            "24 conv2_block2_2_relu (None, 56, 56, 64)\n",
            "25 conv2_block2_3_conv (None, 56, 56, 256)\n",
            "26 conv2_block2_3_bn (None, 56, 56, 256)\n",
            "27 conv2_block2_add (None, 56, 56, 256)\n",
            "28 conv2_block2_out (None, 56, 56, 256)\n",
            "29 conv2_block3_1_conv (None, 56, 56, 64)\n",
            "30 conv2_block3_1_bn (None, 56, 56, 64)\n",
            "31 conv2_block3_1_relu (None, 56, 56, 64)\n",
            "32 conv2_block3_2_conv (None, 56, 56, 64)\n",
            "33 conv2_block3_2_bn (None, 56, 56, 64)\n",
            "34 conv2_block3_2_relu (None, 56, 56, 64)\n",
            "35 conv2_block3_3_conv (None, 56, 56, 256)\n",
            "36 conv2_block3_3_bn (None, 56, 56, 256)\n",
            "37 conv2_block3_add (None, 56, 56, 256)\n",
            "38 conv2_block3_out (None, 56, 56, 256)\n",
            "39 conv3_block1_1_conv (None, 28, 28, 128)\n",
            "40 conv3_block1_1_bn (None, 28, 28, 128)\n",
            "41 conv3_block1_1_relu (None, 28, 28, 128)\n",
            "42 conv3_block1_2_conv (None, 28, 28, 128)\n",
            "43 conv3_block1_2_bn (None, 28, 28, 128)\n",
            "44 conv3_block1_2_relu (None, 28, 28, 128)\n",
            "45 conv3_block1_0_conv (None, 28, 28, 512)\n",
            "46 conv3_block1_3_conv (None, 28, 28, 512)\n",
            "47 conv3_block1_0_bn (None, 28, 28, 512)\n",
            "48 conv3_block1_3_bn (None, 28, 28, 512)\n",
            "49 conv3_block1_add (None, 28, 28, 512)\n",
            "50 conv3_block1_out (None, 28, 28, 512)\n",
            "51 conv3_block2_1_conv (None, 28, 28, 128)\n",
            "52 conv3_block2_1_bn (None, 28, 28, 128)\n",
            "53 conv3_block2_1_relu (None, 28, 28, 128)\n",
            "54 conv3_block2_2_conv (None, 28, 28, 128)\n",
            "55 conv3_block2_2_bn (None, 28, 28, 128)\n",
            "56 conv3_block2_2_relu (None, 28, 28, 128)\n",
            "57 conv3_block2_3_conv (None, 28, 28, 512)\n",
            "58 conv3_block2_3_bn (None, 28, 28, 512)\n",
            "59 conv3_block2_add (None, 28, 28, 512)\n",
            "60 conv3_block2_out (None, 28, 28, 512)\n",
            "61 conv3_block3_1_conv (None, 28, 28, 128)\n",
            "62 conv3_block3_1_bn (None, 28, 28, 128)\n",
            "63 conv3_block3_1_relu (None, 28, 28, 128)\n",
            "64 conv3_block3_2_conv (None, 28, 28, 128)\n",
            "65 conv3_block3_2_bn (None, 28, 28, 128)\n",
            "66 conv3_block3_2_relu (None, 28, 28, 128)\n",
            "67 conv3_block3_3_conv (None, 28, 28, 512)\n",
            "68 conv3_block3_3_bn (None, 28, 28, 512)\n",
            "69 conv3_block3_add (None, 28, 28, 512)\n",
            "70 conv3_block3_out (None, 28, 28, 512)\n",
            "71 conv3_block4_1_conv (None, 28, 28, 128)\n",
            "72 conv3_block4_1_bn (None, 28, 28, 128)\n",
            "73 conv3_block4_1_relu (None, 28, 28, 128)\n",
            "74 conv3_block4_2_conv (None, 28, 28, 128)\n",
            "75 conv3_block4_2_bn (None, 28, 28, 128)\n",
            "76 conv3_block4_2_relu (None, 28, 28, 128)\n",
            "77 conv3_block4_3_conv (None, 28, 28, 512)\n",
            "78 conv3_block4_3_bn (None, 28, 28, 512)\n",
            "79 conv3_block4_add (None, 28, 28, 512)\n",
            "80 conv3_block4_out (None, 28, 28, 512)\n",
            "81 conv4_block1_1_conv (None, 14, 14, 256)\n",
            "82 conv4_block1_1_bn (None, 14, 14, 256)\n",
            "83 conv4_block1_1_relu (None, 14, 14, 256)\n",
            "84 conv4_block1_2_conv (None, 14, 14, 256)\n",
            "85 conv4_block1_2_bn (None, 14, 14, 256)\n",
            "86 conv4_block1_2_relu (None, 14, 14, 256)\n",
            "87 conv4_block1_0_conv (None, 14, 14, 1024)\n",
            "88 conv4_block1_3_conv (None, 14, 14, 1024)\n",
            "89 conv4_block1_0_bn (None, 14, 14, 1024)\n",
            "90 conv4_block1_3_bn (None, 14, 14, 1024)\n",
            "91 conv4_block1_add (None, 14, 14, 1024)\n",
            "92 conv4_block1_out (None, 14, 14, 1024)\n",
            "93 conv4_block2_1_conv (None, 14, 14, 256)\n",
            "94 conv4_block2_1_bn (None, 14, 14, 256)\n",
            "95 conv4_block2_1_relu (None, 14, 14, 256)\n",
            "96 conv4_block2_2_conv (None, 14, 14, 256)\n",
            "97 conv4_block2_2_bn (None, 14, 14, 256)\n",
            "98 conv4_block2_2_relu (None, 14, 14, 256)\n",
            "99 conv4_block2_3_conv (None, 14, 14, 1024)\n",
            "100 conv4_block2_3_bn (None, 14, 14, 1024)\n",
            "101 conv4_block2_add (None, 14, 14, 1024)\n",
            "102 conv4_block2_out (None, 14, 14, 1024)\n",
            "103 conv4_block3_1_conv (None, 14, 14, 256)\n",
            "104 conv4_block3_1_bn (None, 14, 14, 256)\n",
            "105 conv4_block3_1_relu (None, 14, 14, 256)\n",
            "106 conv4_block3_2_conv (None, 14, 14, 256)\n",
            "107 conv4_block3_2_bn (None, 14, 14, 256)\n",
            "108 conv4_block3_2_relu (None, 14, 14, 256)\n",
            "109 conv4_block3_3_conv (None, 14, 14, 1024)\n",
            "110 conv4_block3_3_bn (None, 14, 14, 1024)\n",
            "111 conv4_block3_add (None, 14, 14, 1024)\n",
            "112 conv4_block3_out (None, 14, 14, 1024)\n",
            "113 conv4_block4_1_conv (None, 14, 14, 256)\n",
            "114 conv4_block4_1_bn (None, 14, 14, 256)\n",
            "115 conv4_block4_1_relu (None, 14, 14, 256)\n",
            "116 conv4_block4_2_conv (None, 14, 14, 256)\n",
            "117 conv4_block4_2_bn (None, 14, 14, 256)\n",
            "118 conv4_block4_2_relu (None, 14, 14, 256)\n",
            "119 conv4_block4_3_conv (None, 14, 14, 1024)\n",
            "120 conv4_block4_3_bn (None, 14, 14, 1024)\n",
            "121 conv4_block4_add (None, 14, 14, 1024)\n",
            "122 conv4_block4_out (None, 14, 14, 1024)\n",
            "123 conv4_block5_1_conv (None, 14, 14, 256)\n",
            "124 conv4_block5_1_bn (None, 14, 14, 256)\n",
            "125 conv4_block5_1_relu (None, 14, 14, 256)\n",
            "126 conv4_block5_2_conv (None, 14, 14, 256)\n",
            "127 conv4_block5_2_bn (None, 14, 14, 256)\n",
            "128 conv4_block5_2_relu (None, 14, 14, 256)\n",
            "129 conv4_block5_3_conv (None, 14, 14, 1024)\n",
            "130 conv4_block5_3_bn (None, 14, 14, 1024)\n",
            "131 conv4_block5_add (None, 14, 14, 1024)\n",
            "132 conv4_block5_out (None, 14, 14, 1024)\n",
            "133 conv4_block6_1_conv (None, 14, 14, 256)\n",
            "134 conv4_block6_1_bn (None, 14, 14, 256)\n",
            "135 conv4_block6_1_relu (None, 14, 14, 256)\n",
            "136 conv4_block6_2_conv (None, 14, 14, 256)\n",
            "137 conv4_block6_2_bn (None, 14, 14, 256)\n",
            "138 conv4_block6_2_relu (None, 14, 14, 256)\n",
            "139 conv4_block6_3_conv (None, 14, 14, 1024)\n",
            "140 conv4_block6_3_bn (None, 14, 14, 1024)\n",
            "141 conv4_block6_add (None, 14, 14, 1024)\n",
            "142 conv4_block6_out (None, 14, 14, 1024)\n",
            "143 conv5_block1_1_conv (None, 7, 7, 512)\n",
            "144 conv5_block1_1_bn (None, 7, 7, 512)\n",
            "145 conv5_block1_1_relu (None, 7, 7, 512)\n",
            "146 conv5_block1_2_conv (None, 7, 7, 512)\n",
            "147 conv5_block1_2_bn (None, 7, 7, 512)\n",
            "148 conv5_block1_2_relu (None, 7, 7, 512)\n",
            "149 conv5_block1_0_conv (None, 7, 7, 2048)\n",
            "150 conv5_block1_3_conv (None, 7, 7, 2048)\n",
            "151 conv5_block1_0_bn (None, 7, 7, 2048)\n",
            "152 conv5_block1_3_bn (None, 7, 7, 2048)\n",
            "153 conv5_block1_add (None, 7, 7, 2048)\n",
            "154 conv5_block1_out (None, 7, 7, 2048)\n",
            "155 conv5_block2_1_conv (None, 7, 7, 512)\n",
            "156 conv5_block2_1_bn (None, 7, 7, 512)\n",
            "157 conv5_block2_1_relu (None, 7, 7, 512)\n",
            "158 conv5_block2_2_conv (None, 7, 7, 512)\n",
            "159 conv5_block2_2_bn (None, 7, 7, 512)\n",
            "160 conv5_block2_2_relu (None, 7, 7, 512)\n",
            "161 conv5_block2_3_conv (None, 7, 7, 2048)\n",
            "162 conv5_block2_3_bn (None, 7, 7, 2048)\n",
            "163 conv5_block2_add (None, 7, 7, 2048)\n",
            "164 conv5_block2_out (None, 7, 7, 2048)\n",
            "165 conv5_block3_1_conv (None, 7, 7, 512)\n",
            "166 conv5_block3_1_bn (None, 7, 7, 512)\n",
            "167 conv5_block3_1_relu (None, 7, 7, 512)\n",
            "168 conv5_block3_2_conv (None, 7, 7, 512)\n",
            "169 conv5_block3_2_bn (None, 7, 7, 512)\n",
            "170 conv5_block3_2_relu (None, 7, 7, 512)\n",
            "171 conv5_block3_3_conv (None, 7, 7, 2048)\n",
            "172 conv5_block3_3_bn (None, 7, 7, 2048)\n",
            "173 conv5_block3_add (None, 7, 7, 2048)\n",
            "174 conv5_block3_out (None, 7, 7, 2048)\n"
          ]
        }
      ]
    },
    {
      "cell_type": "code",
      "source": [
        "X_train = res50.predict(X_train)\n",
        "X_val = res50.predict(X_val)\n",
        "print(X_train.shape)\n",
        "print(y_train.shape)\n",
        "print(X_val.shape)\n",
        "print(y_val.shape)\n",
        "print('Counter train data: ', Counter(np.argmax(y_train, axis=1)))\n",
        "print('Counter val data: ', Counter(np.argmax(y_val, axis=1)))"
      ],
      "metadata": {
        "colab": {
          "base_uri": "https://localhost:8080/"
        },
        "id": "UA7Af2Y73FUv",
        "outputId": "f41b2828-ad8d-4cd3-ac77-8a04be113794"
      },
      "execution_count": null,
      "outputs": [
        {
          "output_type": "stream",
          "name": "stdout",
          "text": [
            "(5321, 2048)\n",
            "(5321, 7)\n",
            "(193, 2048)\n",
            "(193, 7)\n",
            "Counter train data:  Counter({5: 2011, 4: 1113, 2: 1099, 1: 514, 0: 327, 6: 142, 3: 115})\n",
            "Counter val data:  Counter({5: 123, 2: 22, 4: 21, 1: 15, 0: 8, 6: 3, 3: 1})\n"
          ]
        }
      ]
    },
    {
      "cell_type": "code",
      "source": [
        "X_train, y_train = SMOTE_Data2(X_train, y_train, True)\n",
        "print(X_train.shape)\n",
        "print(y_train.shape)\n",
        "print(X_val.shape)\n",
        "print(y_val.shape)\n",
        "print('Counter train data: ', Counter(np.argmax(y_train, axis=1)))\n",
        "print('Counter val data: ', Counter(np.argmax(y_val, axis=1)))"
      ],
      "metadata": {
        "colab": {
          "base_uri": "https://localhost:8080/"
        },
        "id": "krJiAb1m3QNf",
        "outputId": "fc0dfaf9-da03-4d79-c03d-584362e908f5"
      },
      "execution_count": null,
      "outputs": [
        {
          "output_type": "stream",
          "name": "stdout",
          "text": [
            "(14077, 2048)\n",
            "(14077, 7)\n",
            "(193, 2048)\n",
            "(193, 7)\n",
            "Counter train data:  Counter({5: 2011, 4: 2011, 2: 2011, 3: 2011, 0: 2011, 1: 2011, 6: 2011})\n",
            "Counter val data:  Counter({5: 123, 2: 22, 4: 21, 1: 15, 0: 8, 6: 3, 3: 1})\n"
          ]
        }
      ]
    },
    {
      "cell_type": "markdown",
      "metadata": {
        "id": "5v7sLC2svMuJ"
      },
      "source": [
        "# Main"
      ]
    },
    {
      "cell_type": "code",
      "execution_count": null,
      "metadata": {
        "id": "4Bw4C7Fwwxad"
      },
      "outputs": [],
      "source": [
        "X_train, y_train, X_val, y_val = load_cifar10_dataset()"
      ]
    },
    {
      "cell_type": "code",
      "execution_count": null,
      "metadata": {
        "colab": {
          "base_uri": "https://localhost:8080/"
        },
        "id": "9QM00erNGU32",
        "outputId": "9a5b6e0d-eb0f-45de-a6bb-23b588f2f22e"
      },
      "outputs": [
        {
          "output_type": "stream",
          "name": "stdout",
          "text": [
            "(5321, 224, 224, 3)\n",
            "(5321, 7)\n",
            "(193, 224, 224, 3)\n",
            "(193, 7)\n"
          ]
        }
      ],
      "source": [
        "#load data\n",
        "X_train, y_train, X_val, y_val, df_train, df_val = load_isic2018_dataset(train_under_frac = 0.7)\n",
        "print(X_train.shape)\n",
        "print(y_train.shape)\n",
        "print(X_val.shape)\n",
        "print(y_val.shape)"
      ]
    },
    {
      "cell_type": "code",
      "execution_count": null,
      "metadata": {
        "id": "o-rGI2h3JN5s"
      },
      "outputs": [],
      "source": [
        "X_train = preprocess_image_input(X_train, the_arch)\n",
        "X_val = preprocess_image_input(X_val, the_arch)"
      ]
    },
    {
      "cell_type": "code",
      "execution_count": 6,
      "metadata": {
        "id": "xArGWuciBt_-",
        "colab": {
          "base_uri": "https://localhost:8080/"
        },
        "outputId": "f921fcfd-a197-4d3d-9d34-ab707a349036"
      },
      "outputs": [
        {
          "output_type": "stream",
          "name": "stdout",
          "text": [
            "(14195, 224, 224, 3)\n",
            "(14195, 7)\n",
            "(193, 224, 224, 3)\n",
            "(193, 7)\n",
            "Counter train data:  Counter({1: 2093, 4: 2052, 6: 2042, 3: 2033, 0: 2020, 5: 2011, 2: 1944})\n",
            "Counter val data:  Counter({5: 123, 2: 22, 4: 21, 1: 15, 0: 8, 6: 3, 3: 1})\n"
          ]
        }
      ],
      "source": [
        "X_train, y_train = SMOTE_Data(X_train, y_train, True, type=\"adasyn\")\n",
        "print(X_train.shape)\n",
        "print(y_train.shape)\n",
        "print(X_val.shape)\n",
        "print(y_val.shape)\n",
        "print('Counter train data: ', Counter(np.argmax(y_train, axis=1)))\n",
        "print('Counter val data: ', Counter(np.argmax(y_val, axis=1)))"
      ]
    },
    {
      "cell_type": "code",
      "execution_count": null,
      "metadata": {
        "id": "A8eRZiucdYnP"
      },
      "outputs": [],
      "source": [
        "#USe TF.data\n",
        "#training_data = tf.data.Dataset.from_tensor_slices((X_train, y_train))\n",
        "#validation_data = tf.data.Dataset.from_tensor_slices((X_val, y_val))\n",
        "\n",
        "#autotune = tf.data.AUTOTUNE\n",
        "#train_data_batches = training_data.shuffle(buffer_size=40000).batch(BATCH_SIZE).prefetch(buffer_size=autotune)\n",
        "#valid_data_batches = validation_data.shuffle(buffer_size=10000).batch(BATCH_SIZE).prefetch(buffer_size=autotune)"
      ]
    },
    {
      "cell_type": "code",
      "execution_count": null,
      "metadata": {
        "id": "V7Z_nccu6QjB"
      },
      "outputs": [],
      "source": [
        "#path = '/content/drive/MyDrive/PHD/Datasets/isic2018/'\n",
        "#df1 = pd.DataFrame(X_train.reshape(X_train.shape[0],-1))\n",
        "#df1['y_train'] = np.argmax(y_train, axis=1).tolist()\n",
        "#df2 = pd.DataFrame(X_val.reshape(X_val.shape[0],-1))\n",
        "#df2['y_val'] = np.argmax(y_val, axis=1).tolist()\n",
        "#df1.to_pickle(path+\"isic2018_train.pkl\")\n",
        "#df2.to_pickle(path+\"isic2018_val.pkl\")"
      ]
    },
    {
      "cell_type": "code",
      "execution_count": 5,
      "metadata": {
        "id": "qge6cnxQPnH6"
      },
      "outputs": [],
      "source": [
        "path = '/content/drive/MyDrive/PHD/Datasets/isic2018/'\n",
        "df1 = pd.read_pickle(path+\"isic2018_train.pkl\")\n",
        "X_train = df1.loc[:, df1.columns != 'y_train'].to_numpy()\n",
        "X_train = X_train.reshape(-1,224,224,3)\n",
        "y_train = df1.loc[:, df1.columns == 'y_train'].to_numpy()\n",
        "y_train = to_categorical(y_train)\n",
        "\n",
        "df1 = pd.read_pickle(path+\"isic2018_val.pkl\")\n",
        "X_val = df1.loc[:, df1.columns != 'y_val'].to_numpy()\n",
        "X_val = X_val.reshape(-1,224,224,3)\n",
        "y_val = df1.loc[:, df1.columns == 'y_val'].to_numpy()\n",
        "y_val = to_categorical(y_val)"
      ]
    },
    {
      "cell_type": "code",
      "execution_count": null,
      "metadata": {
        "colab": {
          "base_uri": "https://localhost:8080/"
        },
        "id": "nAMBgWqIsAAB",
        "outputId": "52b23094-6efb-4a4c-8b60-d31749f216bf"
      },
      "outputs": [
        {
          "output_type": "stream",
          "name": "stdout",
          "text": [
            "(5321, 224, 224, 3)\n",
            "(5321, 7)\n",
            "(193, 224, 224, 3)\n",
            "(193, 7)\n",
            "Counter train data:  Counter({5: 2011, 4: 1113, 2: 1099, 1: 514, 0: 327, 6: 142, 3: 115})\n",
            "Counter val data:  Counter({5: 123, 2: 22, 4: 21, 1: 15, 0: 8, 6: 3, 3: 1})\n"
          ]
        }
      ],
      "source": [
        "print(X_train.shape)\n",
        "print(y_train.shape)\n",
        "print(X_val.shape)\n",
        "print(y_val.shape)\n",
        "print('Counter train data: ', Counter(np.argmax(y_train, axis=1)))\n",
        "print('Counter val data: ', Counter(np.argmax(y_val, axis=1)))"
      ]
    },
    {
      "cell_type": "code",
      "execution_count": null,
      "metadata": {
        "id": "vIygrW81Ln4z",
        "colab": {
          "base_uri": "https://localhost:8080/"
        },
        "outputId": "56071bd2-5d0a-4448-b12d-76a69e506e5a"
      },
      "outputs": [
        {
          "output_type": "stream",
          "name": "stdout",
          "text": [
            "Downloading data from https://storage.googleapis.com/tensorflow/keras-applications/resnet/resnet50_weights_tf_dim_ordering_tf_kernels_notop.h5\n",
            "94773248/94765736 [==============================] - 1s 0us/step\n",
            "94781440/94765736 [==============================] - 1s 0us/step\n",
            "Epoch 1/300\n",
            "221/221 [==============================] - ETA: 0s - loss: 1.6365 - accuracy: 0.3826 - balanced_acc: 0.3800\n",
            "Epoch 1: val_balanced_acc improved from -inf to 0.30707, saving model to /content/drive/MyDrive/PHD/Model/best_model_no.h5\n",
            "221/221 [==============================] - 41s 125ms/step - loss: 1.6365 - accuracy: 0.3826 - balanced_acc: 0.3800 - val_loss: 1.3812 - val_accuracy: 0.5233 - val_balanced_acc: 0.3071 - lr: 0.0010\n",
            "Epoch 2/300\n",
            "221/221 [==============================] - ETA: 0s - loss: 1.2779 - accuracy: 0.5370 - balanced_acc: 0.5372\n",
            "Epoch 2: val_balanced_acc improved from 0.30707 to 0.32640, saving model to /content/drive/MyDrive/PHD/Model/best_model_no.h5\n",
            "221/221 [==============================] - 25s 113ms/step - loss: 1.2779 - accuracy: 0.5370 - balanced_acc: 0.5372 - val_loss: 1.2109 - val_accuracy: 0.5596 - val_balanced_acc: 0.3264 - lr: 0.0010\n",
            "Epoch 3/300\n",
            "221/221 [==============================] - ETA: 0s - loss: 1.1420 - accuracy: 0.5833 - balanced_acc: 0.5818\n",
            "Epoch 3: val_balanced_acc improved from 0.32640 to 0.35208, saving model to /content/drive/MyDrive/PHD/Model/best_model_no.h5\n",
            "221/221 [==============================] - 25s 113ms/step - loss: 1.1420 - accuracy: 0.5833 - balanced_acc: 0.5818 - val_loss: 1.0779 - val_accuracy: 0.6166 - val_balanced_acc: 0.3521 - lr: 0.0010\n",
            "Epoch 4/300\n",
            "221/221 [==============================] - ETA: 0s - loss: 1.0505 - accuracy: 0.6179 - balanced_acc: 0.6162\n",
            "Epoch 4: val_balanced_acc improved from 0.35208 to 0.36685, saving model to /content/drive/MyDrive/PHD/Model/best_model_no.h5\n",
            "221/221 [==============================] - 25s 113ms/step - loss: 1.0505 - accuracy: 0.6179 - balanced_acc: 0.6162 - val_loss: 1.0164 - val_accuracy: 0.6321 - val_balanced_acc: 0.3669 - lr: 0.0010\n",
            "Epoch 5/300\n",
            "221/221 [==============================] - ETA: 0s - loss: 0.9886 - accuracy: 0.6382 - balanced_acc: 0.6357\n",
            "Epoch 5: val_balanced_acc did not improve from 0.36685\n",
            "221/221 [==============================] - 23s 106ms/step - loss: 0.9886 - accuracy: 0.6382 - balanced_acc: 0.6357 - val_loss: 1.0324 - val_accuracy: 0.6166 - val_balanced_acc: 0.3547 - lr: 0.0010\n",
            "Epoch 6/300\n",
            "221/221 [==============================] - ETA: 0s - loss: 0.9463 - accuracy: 0.6578 - balanced_acc: 0.6547\n",
            "Epoch 6: val_balanced_acc did not improve from 0.36685\n",
            "221/221 [==============================] - 23s 106ms/step - loss: 0.9463 - accuracy: 0.6578 - balanced_acc: 0.6547 - val_loss: 0.9599 - val_accuracy: 0.6269 - val_balanced_acc: 0.3602 - lr: 0.0010\n",
            "Epoch 7/300\n",
            "221/221 [==============================] - ETA: 0s - loss: 0.9138 - accuracy: 0.6608 - balanced_acc: 0.6595\n",
            "Epoch 7: val_balanced_acc improved from 0.36685 to 0.40750, saving model to /content/drive/MyDrive/PHD/Model/best_model_no.h5\n",
            "221/221 [==============================] - 25s 113ms/step - loss: 0.9138 - accuracy: 0.6608 - balanced_acc: 0.6595 - val_loss: 0.9372 - val_accuracy: 0.6684 - val_balanced_acc: 0.4075 - lr: 0.0010\n",
            "Epoch 8/300\n",
            "221/221 [==============================] - ETA: 0s - loss: 0.8778 - accuracy: 0.6811 - balanced_acc: 0.6810\n",
            "Epoch 8: val_balanced_acc did not improve from 0.40750\n",
            "221/221 [==============================] - 23s 106ms/step - loss: 0.8778 - accuracy: 0.6811 - balanced_acc: 0.6810 - val_loss: 0.9025 - val_accuracy: 0.6736 - val_balanced_acc: 0.3997 - lr: 0.0010\n",
            "Epoch 9/300\n",
            "221/221 [==============================] - ETA: 0s - loss: 0.8456 - accuracy: 0.6944 - balanced_acc: 0.6915\n",
            "Epoch 9: val_balanced_acc did not improve from 0.40750\n",
            "221/221 [==============================] - 23s 105ms/step - loss: 0.8456 - accuracy: 0.6944 - balanced_acc: 0.6915 - val_loss: 0.8812 - val_accuracy: 0.6839 - val_balanced_acc: 0.4073 - lr: 0.0010\n",
            "Epoch 10/300\n",
            "221/221 [==============================] - ETA: 0s - loss: 0.8316 - accuracy: 0.6980 - balanced_acc: 0.6959\n",
            "Epoch 10: val_balanced_acc improved from 0.40750 to 0.41055, saving model to /content/drive/MyDrive/PHD/Model/best_model_no.h5\n",
            "221/221 [==============================] - 25s 112ms/step - loss: 0.8316 - accuracy: 0.6980 - balanced_acc: 0.6959 - val_loss: 0.8803 - val_accuracy: 0.7047 - val_balanced_acc: 0.4106 - lr: 0.0010\n",
            "Epoch 11/300\n",
            "221/221 [==============================] - ETA: 0s - loss: 0.8035 - accuracy: 0.7074 - balanced_acc: 0.7067\n",
            "Epoch 11: val_balanced_acc improved from 0.41055 to 0.41776, saving model to /content/drive/MyDrive/PHD/Model/best_model_no.h5\n",
            "221/221 [==============================] - 26s 115ms/step - loss: 0.8035 - accuracy: 0.7074 - balanced_acc: 0.7067 - val_loss: 0.8560 - val_accuracy: 0.7047 - val_balanced_acc: 0.4178 - lr: 0.0010\n",
            "Epoch 12/300\n",
            "221/221 [==============================] - ETA: 0s - loss: 0.7845 - accuracy: 0.7176 - balanced_acc: 0.7162\n",
            "Epoch 12: val_balanced_acc did not improve from 0.41776\n",
            "221/221 [==============================] - 23s 106ms/step - loss: 0.7845 - accuracy: 0.7176 - balanced_acc: 0.7162 - val_loss: 0.8568 - val_accuracy: 0.7098 - val_balanced_acc: 0.4158 - lr: 0.0010\n",
            "Epoch 13/300\n",
            "221/221 [==============================] - ETA: 0s - loss: 0.7745 - accuracy: 0.7229 - balanced_acc: 0.7215\n",
            "Epoch 13: val_balanced_acc did not improve from 0.41776\n",
            "221/221 [==============================] - 23s 106ms/step - loss: 0.7745 - accuracy: 0.7229 - balanced_acc: 0.7215 - val_loss: 0.8796 - val_accuracy: 0.6736 - val_balanced_acc: 0.4038 - lr: 0.0010\n",
            "Epoch 14/300\n",
            "221/221 [==============================] - ETA: 0s - loss: 0.7529 - accuracy: 0.7261 - balanced_acc: 0.7236\n",
            "Epoch 14: val_balanced_acc did not improve from 0.41776\n",
            "221/221 [==============================] - 23s 106ms/step - loss: 0.7529 - accuracy: 0.7261 - balanced_acc: 0.7236 - val_loss: 0.8321 - val_accuracy: 0.7047 - val_balanced_acc: 0.4091 - lr: 0.0010\n",
            "Epoch 15/300\n",
            "221/221 [==============================] - ETA: 0s - loss: 0.7355 - accuracy: 0.7313 - balanced_acc: 0.7306\n",
            "Epoch 15: val_balanced_acc did not improve from 0.41776\n",
            "221/221 [==============================] - 23s 106ms/step - loss: 0.7355 - accuracy: 0.7313 - balanced_acc: 0.7306 - val_loss: 0.8489 - val_accuracy: 0.6943 - val_balanced_acc: 0.4073 - lr: 0.0010\n",
            "Epoch 16/300\n",
            "221/221 [==============================] - ETA: 0s - loss: 0.7217 - accuracy: 0.7393 - balanced_acc: 0.7372\n",
            "Epoch 16: val_balanced_acc did not improve from 0.41776\n",
            "221/221 [==============================] - 24s 106ms/step - loss: 0.7217 - accuracy: 0.7393 - balanced_acc: 0.7372 - val_loss: 0.8438 - val_accuracy: 0.6943 - val_balanced_acc: 0.4073 - lr: 0.0010\n",
            "Epoch 17/300\n",
            "221/221 [==============================] - ETA: 0s - loss: 0.7059 - accuracy: 0.7430 - balanced_acc: 0.7414\n",
            "Epoch 17: val_balanced_acc did not improve from 0.41776\n",
            "221/221 [==============================] - 24s 106ms/step - loss: 0.7059 - accuracy: 0.7430 - balanced_acc: 0.7414 - val_loss: 0.7980 - val_accuracy: 0.7047 - val_balanced_acc: 0.4090 - lr: 0.0010\n",
            "Epoch 18/300\n",
            "221/221 [==============================] - ETA: 0s - loss: 0.6953 - accuracy: 0.7520 - balanced_acc: 0.7519\n",
            "Epoch 18: val_balanced_acc did not improve from 0.41776\n",
            "221/221 [==============================] - 24s 107ms/step - loss: 0.6953 - accuracy: 0.7520 - balanced_acc: 0.7519 - val_loss: 0.8355 - val_accuracy: 0.6943 - val_balanced_acc: 0.4100 - lr: 0.0010\n",
            "Epoch 19/300\n",
            "221/221 [==============================] - ETA: 0s - loss: 0.6811 - accuracy: 0.7523 - balanced_acc: 0.7548\n",
            "Epoch 19: val_balanced_acc did not improve from 0.41776\n",
            "221/221 [==============================] - 23s 106ms/step - loss: 0.6811 - accuracy: 0.7523 - balanced_acc: 0.7548 - val_loss: 0.8516 - val_accuracy: 0.6788 - val_balanced_acc: 0.4094 - lr: 0.0010\n",
            "Epoch 20/300\n",
            "221/221 [==============================] - ETA: 0s - loss: 0.6807 - accuracy: 0.7503 - balanced_acc: 0.7496\n",
            "Epoch 20: val_balanced_acc did not improve from 0.41776\n",
            "221/221 [==============================] - 24s 107ms/step - loss: 0.6807 - accuracy: 0.7503 - balanced_acc: 0.7496 - val_loss: 0.8394 - val_accuracy: 0.6736 - val_balanced_acc: 0.4053 - lr: 0.0010\n",
            "Epoch 21/300\n",
            "221/221 [==============================] - ETA: 0s - loss: 0.6599 - accuracy: 0.7629 - balanced_acc: 0.7609\n",
            "Epoch 21: val_balanced_acc did not improve from 0.41776\n",
            "221/221 [==============================] - 24s 107ms/step - loss: 0.6599 - accuracy: 0.7629 - balanced_acc: 0.7609 - val_loss: 0.8086 - val_accuracy: 0.6995 - val_balanced_acc: 0.4150 - lr: 0.0010\n",
            "Epoch 22/300\n",
            "221/221 [==============================] - ETA: 0s - loss: 0.6527 - accuracy: 0.7648 - balanced_acc: 0.7640\n",
            "Epoch 22: val_balanced_acc did not improve from 0.41776\n",
            "221/221 [==============================] - 23s 106ms/step - loss: 0.6527 - accuracy: 0.7648 - balanced_acc: 0.7640 - val_loss: 0.8165 - val_accuracy: 0.7047 - val_balanced_acc: 0.4175 - lr: 0.0010\n",
            "Epoch 23/300\n",
            "221/221 [==============================] - ETA: 0s - loss: 0.6425 - accuracy: 0.7675 - balanced_acc: 0.7640\n",
            "Epoch 23: val_balanced_acc did not improve from 0.41776\n",
            "221/221 [==============================] - 24s 107ms/step - loss: 0.6425 - accuracy: 0.7675 - balanced_acc: 0.7640 - val_loss: 0.8135 - val_accuracy: 0.6839 - val_balanced_acc: 0.4124 - lr: 0.0010\n",
            "Epoch 24/300\n",
            "221/221 [==============================] - ETA: 0s - loss: 0.6388 - accuracy: 0.7713 - balanced_acc: 0.7693\n",
            "Epoch 24: val_balanced_acc did not improve from 0.41776\n",
            "221/221 [==============================] - 23s 105ms/step - loss: 0.6388 - accuracy: 0.7713 - balanced_acc: 0.7693 - val_loss: 0.7782 - val_accuracy: 0.7150 - val_balanced_acc: 0.4165 - lr: 0.0010\n",
            "Epoch 25/300\n",
            "221/221 [==============================] - ETA: 0s - loss: 0.6262 - accuracy: 0.7762 - balanced_acc: 0.7728\n",
            "Epoch 25: val_balanced_acc did not improve from 0.41776\n",
            "221/221 [==============================] - 23s 106ms/step - loss: 0.6262 - accuracy: 0.7762 - balanced_acc: 0.7728 - val_loss: 0.7539 - val_accuracy: 0.7098 - val_balanced_acc: 0.4114 - lr: 0.0010\n",
            "Epoch 26/300\n",
            "221/221 [==============================] - ETA: 0s - loss: 0.6140 - accuracy: 0.7798 - balanced_acc: 0.7784\n",
            "Epoch 26: val_balanced_acc did not improve from 0.41776\n",
            "221/221 [==============================] - 23s 106ms/step - loss: 0.6140 - accuracy: 0.7798 - balanced_acc: 0.7784 - val_loss: 0.7838 - val_accuracy: 0.6995 - val_balanced_acc: 0.4081 - lr: 0.0010\n",
            "Epoch 27/300\n",
            "221/221 [==============================] - ETA: 0s - loss: 0.6089 - accuracy: 0.7810 - balanced_acc: 0.7788\n",
            "Epoch 27: val_balanced_acc did not improve from 0.41776\n",
            "221/221 [==============================] - 23s 106ms/step - loss: 0.6089 - accuracy: 0.7810 - balanced_acc: 0.7788 - val_loss: 0.8258 - val_accuracy: 0.6788 - val_balanced_acc: 0.4046 - lr: 0.0010\n",
            "Epoch 28/300\n",
            "221/221 [==============================] - ETA: 0s - loss: 0.5936 - accuracy: 0.7936 - balanced_acc: 0.7931\n",
            "Epoch 28: val_balanced_acc improved from 0.41776 to 0.41999, saving model to /content/drive/MyDrive/PHD/Model/best_model_no.h5\n",
            "221/221 [==============================] - 25s 113ms/step - loss: 0.5936 - accuracy: 0.7936 - balanced_acc: 0.7931 - val_loss: 0.7751 - val_accuracy: 0.7202 - val_balanced_acc: 0.4200 - lr: 0.0010\n",
            "Epoch 29/300\n",
            "221/221 [==============================] - ETA: 0s - loss: 0.5853 - accuracy: 0.7922 - balanced_acc: 0.7892\n",
            "Epoch 29: val_balanced_acc did not improve from 0.41999\n",
            "221/221 [==============================] - 23s 106ms/step - loss: 0.5853 - accuracy: 0.7922 - balanced_acc: 0.7892 - val_loss: 0.7957 - val_accuracy: 0.6788 - val_balanced_acc: 0.4088 - lr: 0.0010\n",
            "Epoch 30/300\n",
            "221/221 [==============================] - ETA: 0s - loss: 0.5838 - accuracy: 0.7912 - balanced_acc: 0.7907\n",
            "Epoch 30: val_balanced_acc did not improve from 0.41999\n",
            "221/221 [==============================] - 24s 107ms/step - loss: 0.5838 - accuracy: 0.7912 - balanced_acc: 0.7907 - val_loss: 0.7894 - val_accuracy: 0.6736 - val_balanced_acc: 0.4038 - lr: 0.0010\n",
            "Epoch 31/300\n",
            "221/221 [==============================] - ETA: 0s - loss: 0.5751 - accuracy: 0.7925 - balanced_acc: 0.7924\n",
            "Epoch 31: val_balanced_acc did not improve from 0.41999\n",
            "221/221 [==============================] - 23s 106ms/step - loss: 0.5751 - accuracy: 0.7925 - balanced_acc: 0.7924 - val_loss: 0.7620 - val_accuracy: 0.7047 - val_balanced_acc: 0.4132 - lr: 0.0010\n",
            "Epoch 32/300\n",
            "221/221 [==============================] - ETA: 0s - loss: 0.5662 - accuracy: 0.7999 - balanced_acc: 0.7985\n",
            "Epoch 32: val_balanced_acc did not improve from 0.41999\n",
            "221/221 [==============================] - 23s 106ms/step - loss: 0.5662 - accuracy: 0.7999 - balanced_acc: 0.7985 - val_loss: 0.7878 - val_accuracy: 0.6839 - val_balanced_acc: 0.4140 - lr: 0.0010\n",
            "Epoch 33/300\n",
            "221/221 [==============================] - ETA: 0s - loss: 0.5619 - accuracy: 0.7992 - balanced_acc: 0.7970\n",
            "Epoch 33: val_balanced_acc did not improve from 0.41999\n",
            "221/221 [==============================] - 23s 106ms/step - loss: 0.5619 - accuracy: 0.7992 - balanced_acc: 0.7970 - val_loss: 0.7743 - val_accuracy: 0.6943 - val_balanced_acc: 0.4073 - lr: 0.0010\n",
            "Epoch 34/300\n",
            "221/221 [==============================] - ETA: 0s - loss: 0.5601 - accuracy: 0.7984 - balanced_acc: 0.7967\n",
            "Epoch 34: val_balanced_acc did not improve from 0.41999\n",
            "221/221 [==============================] - 23s 106ms/step - loss: 0.5601 - accuracy: 0.7984 - balanced_acc: 0.7967 - val_loss: 0.8022 - val_accuracy: 0.6736 - val_balanced_acc: 0.4122 - lr: 0.0010\n",
            "Epoch 35/300\n",
            "221/221 [==============================] - ETA: 0s - loss: 0.5438 - accuracy: 0.8050 - balanced_acc: 0.8049\n",
            "Epoch 35: val_balanced_acc did not improve from 0.41999\n",
            "221/221 [==============================] - 23s 106ms/step - loss: 0.5438 - accuracy: 0.8050 - balanced_acc: 0.8049 - val_loss: 0.7676 - val_accuracy: 0.6839 - val_balanced_acc: 0.4056 - lr: 0.0010\n",
            "Epoch 36/300\n",
            "221/221 [==============================] - ETA: 0s - loss: 0.5425 - accuracy: 0.8057 - balanced_acc: 0.8046\n",
            "Epoch 36: val_balanced_acc did not improve from 0.41999\n",
            "221/221 [==============================] - 23s 106ms/step - loss: 0.5425 - accuracy: 0.8057 - balanced_acc: 0.8046 - val_loss: 0.7792 - val_accuracy: 0.6684 - val_balanced_acc: 0.4029 - lr: 0.0010\n",
            "Epoch 37/300\n",
            "221/221 [==============================] - ETA: 0s - loss: 0.5324 - accuracy: 0.8064 - balanced_acc: 0.8044\n",
            "Epoch 37: val_balanced_acc did not improve from 0.41999\n",
            "221/221 [==============================] - 23s 106ms/step - loss: 0.5324 - accuracy: 0.8064 - balanced_acc: 0.8044 - val_loss: 0.7671 - val_accuracy: 0.6839 - val_balanced_acc: 0.4114 - lr: 0.0010\n",
            "Epoch 38/300\n",
            "221/221 [==============================] - ETA: 0s - loss: 0.5305 - accuracy: 0.8114 - balanced_acc: 0.8102\n",
            "Epoch 38: val_balanced_acc did not improve from 0.41999\n",
            "221/221 [==============================] - 23s 106ms/step - loss: 0.5305 - accuracy: 0.8114 - balanced_acc: 0.8102 - val_loss: 0.7330 - val_accuracy: 0.7098 - val_balanced_acc: 0.4157 - lr: 0.0010\n",
            "Epoch 39/300\n",
            "221/221 [==============================] - ETA: 0s - loss: 0.5246 - accuracy: 0.8147 - balanced_acc: 0.8149\n",
            "Epoch 39: val_balanced_acc did not improve from 0.41999\n",
            "221/221 [==============================] - 23s 106ms/step - loss: 0.5246 - accuracy: 0.8147 - balanced_acc: 0.8149 - val_loss: 0.7492 - val_accuracy: 0.6891 - val_balanced_acc: 0.4122 - lr: 0.0010\n",
            "Epoch 40/300\n",
            "221/221 [==============================] - ETA: 0s - loss: 0.5180 - accuracy: 0.8174 - balanced_acc: 0.8177\n",
            "Epoch 40: val_balanced_acc did not improve from 0.41999\n",
            "221/221 [==============================] - 23s 106ms/step - loss: 0.5180 - accuracy: 0.8174 - balanced_acc: 0.8177 - val_loss: 0.7261 - val_accuracy: 0.7150 - val_balanced_acc: 0.4175 - lr: 0.0010\n",
            "Epoch 41/300\n",
            "221/221 [==============================] - ETA: 0s - loss: 0.5043 - accuracy: 0.8254 - balanced_acc: 0.8229\n",
            "Epoch 41: val_balanced_acc did not improve from 0.41999\n",
            "221/221 [==============================] - 23s 106ms/step - loss: 0.5043 - accuracy: 0.8254 - balanced_acc: 0.8229 - val_loss: 0.7376 - val_accuracy: 0.6943 - val_balanced_acc: 0.4089 - lr: 0.0010\n",
            "Epoch 42/300\n",
            "221/221 [==============================] - ETA: 0s - loss: 0.5038 - accuracy: 0.8249 - balanced_acc: 0.8230\n",
            "Epoch 42: val_balanced_acc did not improve from 0.41999\n",
            "221/221 [==============================] - 23s 106ms/step - loss: 0.5038 - accuracy: 0.8249 - balanced_acc: 0.8230 - val_loss: 0.7703 - val_accuracy: 0.6788 - val_balanced_acc: 0.4078 - lr: 0.0010\n",
            "Epoch 43/300\n",
            "221/221 [==============================] - ETA: 0s - loss: 0.4985 - accuracy: 0.8260 - balanced_acc: 0.8263\n",
            "Epoch 43: val_balanced_acc did not improve from 0.41999\n",
            "221/221 [==============================] - 23s 106ms/step - loss: 0.4985 - accuracy: 0.8260 - balanced_acc: 0.8263 - val_loss: 0.7476 - val_accuracy: 0.6995 - val_balanced_acc: 0.4124 - lr: 0.0010\n",
            "Epoch 44/300\n",
            "221/221 [==============================] - ETA: 0s - loss: 0.4977 - accuracy: 0.8258 - balanced_acc: 0.8248\n",
            "Epoch 44: val_balanced_acc did not improve from 0.41999\n",
            "221/221 [==============================] - 23s 106ms/step - loss: 0.4977 - accuracy: 0.8258 - balanced_acc: 0.8248 - val_loss: 0.7902 - val_accuracy: 0.6684 - val_balanced_acc: 0.4038 - lr: 0.0010\n",
            "Epoch 45/300\n",
            "221/221 [==============================] - ETA: 0s - loss: 0.4828 - accuracy: 0.8352 - balanced_acc: 0.8344\n",
            "Epoch 45: val_balanced_acc did not improve from 0.41999\n",
            "221/221 [==============================] - 23s 106ms/step - loss: 0.4828 - accuracy: 0.8352 - balanced_acc: 0.8344 - val_loss: 0.7554 - val_accuracy: 0.6788 - val_balanced_acc: 0.4063 - lr: 0.0010\n",
            "Epoch 46/300\n",
            "221/221 [==============================] - ETA: 0s - loss: 0.4917 - accuracy: 0.8273 - balanced_acc: 0.8264\n",
            "Epoch 46: val_balanced_acc did not improve from 0.41999\n",
            "221/221 [==============================] - 23s 106ms/step - loss: 0.4917 - accuracy: 0.8273 - balanced_acc: 0.8264 - val_loss: 0.7567 - val_accuracy: 0.6891 - val_balanced_acc: 0.4134 - lr: 0.0010\n",
            "Epoch 47/300\n",
            "221/221 [==============================] - ETA: 0s - loss: 0.4743 - accuracy: 0.8358 - balanced_acc: 0.8335\n",
            "Epoch 47: val_balanced_acc did not improve from 0.41999\n",
            "221/221 [==============================] - 23s 106ms/step - loss: 0.4743 - accuracy: 0.8358 - balanced_acc: 0.8335 - val_loss: 0.7308 - val_accuracy: 0.6943 - val_balanced_acc: 0.4103 - lr: 0.0010\n",
            "Epoch 48/300\n",
            "221/221 [==============================] - ETA: 0s - loss: 0.4760 - accuracy: 0.8356 - balanced_acc: 0.8368\n",
            "Epoch 48: val_balanced_acc did not improve from 0.41999\n",
            "221/221 [==============================] - 23s 106ms/step - loss: 0.4760 - accuracy: 0.8356 - balanced_acc: 0.8368 - val_loss: 0.7354 - val_accuracy: 0.6891 - val_balanced_acc: 0.4122 - lr: 0.0010\n",
            "Epoch 49/300\n",
            "221/221 [==============================] - ETA: 0s - loss: 0.4672 - accuracy: 0.8362 - balanced_acc: 0.8324\n",
            "Epoch 49: val_balanced_acc did not improve from 0.41999\n",
            "221/221 [==============================] - 23s 106ms/step - loss: 0.4672 - accuracy: 0.8362 - balanced_acc: 0.8324 - val_loss: 0.7511 - val_accuracy: 0.6736 - val_balanced_acc: 0.4069 - lr: 0.0010\n",
            "Epoch 50/300\n",
            "221/221 [==============================] - ETA: 0s - loss: 0.4674 - accuracy: 0.8384 - balanced_acc: 0.8369\n",
            "Epoch 50: val_balanced_acc did not improve from 0.41999\n",
            "221/221 [==============================] - 23s 106ms/step - loss: 0.4674 - accuracy: 0.8384 - balanced_acc: 0.8369 - val_loss: 0.7681 - val_accuracy: 0.6788 - val_balanced_acc: 0.4104 - lr: 0.0010\n",
            "Epoch 51/300\n",
            "221/221 [==============================] - ETA: 0s - loss: 0.4618 - accuracy: 0.8375 - balanced_acc: 0.8352\n",
            "Epoch 51: val_balanced_acc improved from 0.41999 to 0.42515, saving model to /content/drive/MyDrive/PHD/Model/best_model_no.h5\n",
            "221/221 [==============================] - 25s 113ms/step - loss: 0.4618 - accuracy: 0.8375 - balanced_acc: 0.8352 - val_loss: 0.7294 - val_accuracy: 0.6943 - val_balanced_acc: 0.4252 - lr: 0.0010\n",
            "Epoch 52/300\n",
            "221/221 [==============================] - ETA: 0s - loss: 0.4573 - accuracy: 0.8384 - balanced_acc: 0.8377\n",
            "Epoch 52: val_balanced_acc improved from 0.42515 to 0.42664, saving model to /content/drive/MyDrive/PHD/Model/best_model_no.h5\n",
            "221/221 [==============================] - 25s 113ms/step - loss: 0.4573 - accuracy: 0.8384 - balanced_acc: 0.8377 - val_loss: 0.7404 - val_accuracy: 0.6995 - val_balanced_acc: 0.4266 - lr: 0.0010\n",
            "Epoch 53/300\n",
            "221/221 [==============================] - ETA: 0s - loss: 0.4469 - accuracy: 0.8454 - balanced_acc: 0.8431\n",
            "Epoch 53: val_balanced_acc did not improve from 0.42664\n",
            "221/221 [==============================] - 24s 106ms/step - loss: 0.4469 - accuracy: 0.8454 - balanced_acc: 0.8431 - val_loss: 0.7567 - val_accuracy: 0.6788 - val_balanced_acc: 0.4027 - lr: 0.0010\n",
            "Epoch 54/300\n",
            "221/221 [==============================] - ETA: 0s - loss: 0.4442 - accuracy: 0.8483 - balanced_acc: 0.8476\n",
            "Epoch 54: val_balanced_acc did not improve from 0.42664\n",
            "221/221 [==============================] - 23s 106ms/step - loss: 0.4442 - accuracy: 0.8483 - balanced_acc: 0.8476 - val_loss: 0.7574 - val_accuracy: 0.6839 - val_balanced_acc: 0.4107 - lr: 0.0010\n",
            "Epoch 55/300\n",
            "221/221 [==============================] - ETA: 0s - loss: 0.4436 - accuracy: 0.8495 - balanced_acc: 0.8463\n",
            "Epoch 55: val_balanced_acc did not improve from 0.42664\n",
            "221/221 [==============================] - 24s 106ms/step - loss: 0.4436 - accuracy: 0.8495 - balanced_acc: 0.8463 - val_loss: 0.7540 - val_accuracy: 0.6736 - val_balanced_acc: 0.4048 - lr: 0.0010\n",
            "Epoch 56/300\n",
            "221/221 [==============================] - ETA: 0s - loss: 0.4369 - accuracy: 0.8484 - balanced_acc: 0.8458\n",
            "Epoch 56: val_balanced_acc did not improve from 0.42664\n",
            "221/221 [==============================] - 24s 106ms/step - loss: 0.4369 - accuracy: 0.8484 - balanced_acc: 0.8458 - val_loss: 0.7147 - val_accuracy: 0.7098 - val_balanced_acc: 0.4216 - lr: 0.0010\n",
            "Epoch 57/300\n",
            "221/221 [==============================] - ETA: 0s - loss: 0.4326 - accuracy: 0.8500 - balanced_acc: 0.8487\n",
            "Epoch 57: val_balanced_acc did not improve from 0.42664\n",
            "221/221 [==============================] - 24s 106ms/step - loss: 0.4326 - accuracy: 0.8500 - balanced_acc: 0.8487 - val_loss: 0.7334 - val_accuracy: 0.6891 - val_balanced_acc: 0.4053 - lr: 0.0010\n",
            "Epoch 58/300\n",
            "221/221 [==============================] - ETA: 0s - loss: 0.4271 - accuracy: 0.8521 - balanced_acc: 0.8522\n",
            "Epoch 58: val_balanced_acc improved from 0.42664 to 0.42942, saving model to /content/drive/MyDrive/PHD/Model/best_model_no.h5\n",
            "221/221 [==============================] - 25s 112ms/step - loss: 0.4271 - accuracy: 0.8521 - balanced_acc: 0.8522 - val_loss: 0.7454 - val_accuracy: 0.6943 - val_balanced_acc: 0.4294 - lr: 0.0010\n",
            "Epoch 59/300\n",
            "221/221 [==============================] - ETA: 0s - loss: 0.4219 - accuracy: 0.8575 - balanced_acc: 0.8559\n",
            "Epoch 59: val_balanced_acc did not improve from 0.42942\n",
            "221/221 [==============================] - 24s 107ms/step - loss: 0.4219 - accuracy: 0.8575 - balanced_acc: 0.8559 - val_loss: 0.6981 - val_accuracy: 0.7150 - val_balanced_acc: 0.4240 - lr: 0.0010\n",
            "Epoch 60/300\n",
            "221/221 [==============================] - ETA: 0s - loss: 0.4190 - accuracy: 0.8558 - balanced_acc: 0.8523\n",
            "Epoch 60: val_balanced_acc did not improve from 0.42942\n",
            "221/221 [==============================] - 23s 106ms/step - loss: 0.4190 - accuracy: 0.8558 - balanced_acc: 0.8523 - val_loss: 0.7075 - val_accuracy: 0.6995 - val_balanced_acc: 0.4132 - lr: 0.0010\n",
            "Epoch 61/300\n",
            "221/221 [==============================] - ETA: 0s - loss: 0.4230 - accuracy: 0.8586 - balanced_acc: 0.8568\n",
            "Epoch 61: val_balanced_acc did not improve from 0.42942\n",
            "221/221 [==============================] - 23s 106ms/step - loss: 0.4230 - accuracy: 0.8586 - balanced_acc: 0.8568 - val_loss: 0.7500 - val_accuracy: 0.6839 - val_balanced_acc: 0.4131 - lr: 0.0010\n",
            "Epoch 62/300\n",
            "221/221 [==============================] - ETA: 0s - loss: 0.4065 - accuracy: 0.8618 - balanced_acc: 0.8616\n",
            "Epoch 62: val_balanced_acc did not improve from 0.42942\n",
            "221/221 [==============================] - 23s 106ms/step - loss: 0.4065 - accuracy: 0.8618 - balanced_acc: 0.8616 - val_loss: 0.7138 - val_accuracy: 0.6995 - val_balanced_acc: 0.4241 - lr: 0.0010\n",
            "Epoch 63/300\n",
            "221/221 [==============================] - ETA: 0s - loss: 0.4114 - accuracy: 0.8594 - balanced_acc: 0.8569\n",
            "Epoch 63: val_balanced_acc improved from 0.42942 to 0.43110, saving model to /content/drive/MyDrive/PHD/Model/best_model_no.h5\n",
            "221/221 [==============================] - 25s 112ms/step - loss: 0.4114 - accuracy: 0.8594 - balanced_acc: 0.8569 - val_loss: 0.7250 - val_accuracy: 0.7047 - val_balanced_acc: 0.4311 - lr: 0.0010\n",
            "Epoch 64/300\n",
            "221/221 [==============================] - ETA: 0s - loss: 0.4094 - accuracy: 0.8613 - balanced_acc: 0.8603\n",
            "Epoch 64: val_balanced_acc did not improve from 0.43110\n",
            "221/221 [==============================] - 23s 106ms/step - loss: 0.4094 - accuracy: 0.8613 - balanced_acc: 0.8603 - val_loss: 0.7071 - val_accuracy: 0.7098 - val_balanced_acc: 0.4248 - lr: 0.0010\n",
            "Epoch 65/300\n",
            "221/221 [==============================] - ETA: 0s - loss: 0.4048 - accuracy: 0.8642 - balanced_acc: 0.8638\n",
            "Epoch 65: val_balanced_acc improved from 0.43110 to 0.45936, saving model to /content/drive/MyDrive/PHD/Model/best_model_no.h5\n",
            "221/221 [==============================] - 25s 113ms/step - loss: 0.4048 - accuracy: 0.8642 - balanced_acc: 0.8638 - val_loss: 0.7096 - val_accuracy: 0.7150 - val_balanced_acc: 0.4594 - lr: 0.0010\n",
            "Epoch 66/300\n",
            "221/221 [==============================] - ETA: 0s - loss: 0.3946 - accuracy: 0.8652 - balanced_acc: 0.8638\n",
            "Epoch 66: val_balanced_acc did not improve from 0.45936\n",
            "221/221 [==============================] - 23s 106ms/step - loss: 0.3946 - accuracy: 0.8652 - balanced_acc: 0.8638 - val_loss: 0.7291 - val_accuracy: 0.6943 - val_balanced_acc: 0.4539 - lr: 0.0010\n",
            "Epoch 67/300\n",
            "221/221 [==============================] - ETA: 0s - loss: 0.3930 - accuracy: 0.8638 - balanced_acc: 0.8638\n",
            "Epoch 67: val_balanced_acc did not improve from 0.45936\n",
            "221/221 [==============================] - 23s 106ms/step - loss: 0.3930 - accuracy: 0.8638 - balanced_acc: 0.8638 - val_loss: 0.7212 - val_accuracy: 0.6995 - val_balanced_acc: 0.4284 - lr: 0.0010\n",
            "Epoch 68/300\n",
            "221/221 [==============================] - ETA: 0s - loss: 0.3941 - accuracy: 0.8696 - balanced_acc: 0.8684\n",
            "Epoch 68: val_balanced_acc did not improve from 0.45936\n",
            "221/221 [==============================] - 23s 106ms/step - loss: 0.3941 - accuracy: 0.8696 - balanced_acc: 0.8684 - val_loss: 0.7008 - val_accuracy: 0.7047 - val_balanced_acc: 0.4498 - lr: 0.0010\n",
            "Epoch 69/300\n",
            "221/221 [==============================] - ETA: 0s - loss: 0.3826 - accuracy: 0.8722 - balanced_acc: 0.8711\n",
            "Epoch 69: val_balanced_acc did not improve from 0.45936\n",
            "221/221 [==============================] - 24s 106ms/step - loss: 0.3826 - accuracy: 0.8722 - balanced_acc: 0.8711 - val_loss: 0.6719 - val_accuracy: 0.7358 - val_balanced_acc: 0.4318 - lr: 0.0010\n",
            "Epoch 70/300\n",
            "221/221 [==============================] - ETA: 0s - loss: 0.3922 - accuracy: 0.8677 - balanced_acc: 0.8675\n",
            "Epoch 70: val_balanced_acc did not improve from 0.45936\n",
            "221/221 [==============================] - 23s 106ms/step - loss: 0.3922 - accuracy: 0.8677 - balanced_acc: 0.8675 - val_loss: 0.7294 - val_accuracy: 0.6995 - val_balanced_acc: 0.4320 - lr: 0.0010\n",
            "Epoch 71/300\n",
            "221/221 [==============================] - ETA: 0s - loss: 0.3820 - accuracy: 0.8709 - balanced_acc: 0.8706\n",
            "Epoch 71: val_balanced_acc did not improve from 0.45936\n",
            "221/221 [==============================] - 23s 106ms/step - loss: 0.3820 - accuracy: 0.8709 - balanced_acc: 0.8706 - val_loss: 0.6954 - val_accuracy: 0.7098 - val_balanced_acc: 0.4215 - lr: 0.0010\n",
            "Epoch 72/300\n",
            "221/221 [==============================] - ETA: 0s - loss: 0.3816 - accuracy: 0.8723 - balanced_acc: 0.8716\n",
            "Epoch 72: val_balanced_acc did not improve from 0.45936\n",
            "221/221 [==============================] - 24s 107ms/step - loss: 0.3816 - accuracy: 0.8723 - balanced_acc: 0.8716 - val_loss: 0.7055 - val_accuracy: 0.7150 - val_balanced_acc: 0.4320 - lr: 0.0010\n",
            "Epoch 73/300\n",
            "221/221 [==============================] - ETA: 0s - loss: 0.3746 - accuracy: 0.8728 - balanced_acc: 0.8721\n",
            "Epoch 73: val_balanced_acc did not improve from 0.45936\n",
            "221/221 [==============================] - 23s 106ms/step - loss: 0.3746 - accuracy: 0.8728 - balanced_acc: 0.8721 - val_loss: 0.6921 - val_accuracy: 0.7098 - val_balanced_acc: 0.4501 - lr: 0.0010\n",
            "Epoch 74/300\n",
            "221/221 [==============================] - ETA: 0s - loss: 0.3743 - accuracy: 0.8744 - balanced_acc: 0.8724\n",
            "Epoch 74: val_balanced_acc did not improve from 0.45936\n",
            "221/221 [==============================] - 24s 106ms/step - loss: 0.3743 - accuracy: 0.8744 - balanced_acc: 0.8724 - val_loss: 0.7250 - val_accuracy: 0.7098 - val_balanced_acc: 0.4380 - lr: 0.0010\n",
            "Epoch 75/300\n",
            "221/221 [==============================] - ETA: 0s - loss: 0.3673 - accuracy: 0.8783 - balanced_acc: 0.8780\n",
            "Epoch 75: val_balanced_acc did not improve from 0.45936\n",
            "221/221 [==============================] - 23s 106ms/step - loss: 0.3673 - accuracy: 0.8783 - balanced_acc: 0.8780 - val_loss: 0.7129 - val_accuracy: 0.7047 - val_balanced_acc: 0.4276 - lr: 0.0010\n",
            "Epoch 76/300\n",
            "221/221 [==============================] - ETA: 0s - loss: 0.3645 - accuracy: 0.8783 - balanced_acc: 0.8778\n",
            "Epoch 76: val_balanced_acc did not improve from 0.45936\n",
            "221/221 [==============================] - 23s 106ms/step - loss: 0.3645 - accuracy: 0.8783 - balanced_acc: 0.8778 - val_loss: 0.7372 - val_accuracy: 0.6995 - val_balanced_acc: 0.4320 - lr: 0.0010\n",
            "Epoch 77/300\n",
            "221/221 [==============================] - ETA: 0s - loss: 0.3583 - accuracy: 0.8822 - balanced_acc: 0.8782\n",
            "Epoch 77: val_balanced_acc improved from 0.45936 to 0.46829, saving model to /content/drive/MyDrive/PHD/Model/best_model_no.h5\n",
            "221/221 [==============================] - 25s 112ms/step - loss: 0.3583 - accuracy: 0.8822 - balanced_acc: 0.8782 - val_loss: 0.7074 - val_accuracy: 0.7254 - val_balanced_acc: 0.4683 - lr: 0.0010\n",
            "Epoch 78/300\n",
            "221/221 [==============================] - ETA: 0s - loss: 0.3600 - accuracy: 0.8808 - balanced_acc: 0.8781\n",
            "Epoch 78: val_balanced_acc did not improve from 0.46829\n",
            "221/221 [==============================] - 23s 106ms/step - loss: 0.3600 - accuracy: 0.8808 - balanced_acc: 0.8781 - val_loss: 0.6632 - val_accuracy: 0.7306 - val_balanced_acc: 0.4564 - lr: 0.0010\n",
            "Epoch 79/300\n",
            "221/221 [==============================] - ETA: 0s - loss: 0.3571 - accuracy: 0.8819 - balanced_acc: 0.8805\n",
            "Epoch 79: val_balanced_acc did not improve from 0.46829\n",
            "221/221 [==============================] - 23s 106ms/step - loss: 0.3571 - accuracy: 0.8819 - balanced_acc: 0.8805 - val_loss: 0.7235 - val_accuracy: 0.6995 - val_balanced_acc: 0.4225 - lr: 0.0010\n",
            "Epoch 80/300\n",
            "221/221 [==============================] - ETA: 0s - loss: 0.3517 - accuracy: 0.8850 - balanced_acc: 0.8843\n",
            "Epoch 80: val_balanced_acc did not improve from 0.46829\n",
            "221/221 [==============================] - 23s 106ms/step - loss: 0.3517 - accuracy: 0.8850 - balanced_acc: 0.8843 - val_loss: 0.6976 - val_accuracy: 0.7254 - val_balanced_acc: 0.4611 - lr: 0.0010\n",
            "Epoch 81/300\n",
            "221/221 [==============================] - ETA: 0s - loss: 0.3511 - accuracy: 0.8813 - balanced_acc: 0.8807\n",
            "Epoch 81: val_balanced_acc did not improve from 0.46829\n",
            "221/221 [==============================] - 23s 106ms/step - loss: 0.3511 - accuracy: 0.8813 - balanced_acc: 0.8807 - val_loss: 0.7250 - val_accuracy: 0.7047 - val_balanced_acc: 0.4601 - lr: 0.0010\n",
            "Epoch 82/300\n",
            "221/221 [==============================] - ETA: 0s - loss: 0.3496 - accuracy: 0.8866 - balanced_acc: 0.8863\n",
            "Epoch 82: val_balanced_acc did not improve from 0.46829\n",
            "221/221 [==============================] - 23s 106ms/step - loss: 0.3496 - accuracy: 0.8866 - balanced_acc: 0.8863 - val_loss: 0.7205 - val_accuracy: 0.7098 - val_balanced_acc: 0.4381 - lr: 0.0010\n",
            "Epoch 83/300\n",
            "221/221 [==============================] - ETA: 0s - loss: 0.3374 - accuracy: 0.8898 - balanced_acc: 0.8881\n",
            "Epoch 83: val_balanced_acc did not improve from 0.46829\n",
            "221/221 [==============================] - 23s 106ms/step - loss: 0.3374 - accuracy: 0.8898 - balanced_acc: 0.8881 - val_loss: 0.7210 - val_accuracy: 0.6995 - val_balanced_acc: 0.4517 - lr: 0.0010\n",
            "Epoch 84/300\n",
            "221/221 [==============================] - ETA: 0s - loss: 0.3472 - accuracy: 0.8802 - balanced_acc: 0.8804\n",
            "Epoch 84: val_balanced_acc did not improve from 0.46829\n",
            "221/221 [==============================] - 23s 106ms/step - loss: 0.3472 - accuracy: 0.8802 - balanced_acc: 0.8804 - val_loss: 0.6896 - val_accuracy: 0.7254 - val_balanced_acc: 0.4611 - lr: 0.0010\n",
            "Epoch 85/300\n",
            "221/221 [==============================] - ETA: 0s - loss: 0.3341 - accuracy: 0.8917 - balanced_acc: 0.8898\n",
            "Epoch 85: val_balanced_acc improved from 0.46829 to 0.46887, saving model to /content/drive/MyDrive/PHD/Model/best_model_no.h5\n",
            "221/221 [==============================] - 25s 113ms/step - loss: 0.3341 - accuracy: 0.8917 - balanced_acc: 0.8898 - val_loss: 0.6692 - val_accuracy: 0.7409 - val_balanced_acc: 0.4689 - lr: 0.0010\n",
            "Epoch 86/300\n",
            "221/221 [==============================] - ETA: 0s - loss: 0.3345 - accuracy: 0.8887 - balanced_acc: 0.8864\n",
            "Epoch 86: val_balanced_acc did not improve from 0.46887\n",
            "221/221 [==============================] - 23s 106ms/step - loss: 0.3345 - accuracy: 0.8887 - balanced_acc: 0.8864 - val_loss: 0.6983 - val_accuracy: 0.7098 - val_balanced_acc: 0.4633 - lr: 0.0010\n",
            "Epoch 87/300\n",
            "221/221 [==============================] - ETA: 0s - loss: 0.3273 - accuracy: 0.8929 - balanced_acc: 0.8943\n",
            "Epoch 87: val_balanced_acc did not improve from 0.46887\n",
            "221/221 [==============================] - 23s 106ms/step - loss: 0.3273 - accuracy: 0.8929 - balanced_acc: 0.8943 - val_loss: 0.6723 - val_accuracy: 0.7409 - val_balanced_acc: 0.4644 - lr: 0.0010\n",
            "Epoch 88/300\n",
            "221/221 [==============================] - ETA: 0s - loss: 0.3272 - accuracy: 0.8918 - balanced_acc: 0.8897\n",
            "Epoch 88: val_balanced_acc did not improve from 0.46887\n",
            "221/221 [==============================] - 23s 106ms/step - loss: 0.3272 - accuracy: 0.8918 - balanced_acc: 0.8897 - val_loss: 0.7081 - val_accuracy: 0.7150 - val_balanced_acc: 0.4684 - lr: 0.0010\n",
            "Epoch 89/300\n",
            "221/221 [==============================] - ETA: 0s - loss: 0.3283 - accuracy: 0.8933 - balanced_acc: 0.8908\n",
            "Epoch 89: val_balanced_acc did not improve from 0.46887\n",
            "221/221 [==============================] - 23s 106ms/step - loss: 0.3283 - accuracy: 0.8933 - balanced_acc: 0.8908 - val_loss: 0.6916 - val_accuracy: 0.7358 - val_balanced_acc: 0.4626 - lr: 0.0010\n",
            "Epoch 90/300\n",
            "221/221 [==============================] - ETA: 0s - loss: 0.3290 - accuracy: 0.8913 - balanced_acc: 0.8914\n",
            "Epoch 90: val_balanced_acc did not improve from 0.46887\n",
            "221/221 [==============================] - 24s 107ms/step - loss: 0.3290 - accuracy: 0.8913 - balanced_acc: 0.8914 - val_loss: 0.6914 - val_accuracy: 0.7254 - val_balanced_acc: 0.4658 - lr: 0.0010\n",
            "Epoch 91/300\n",
            "221/221 [==============================] - ETA: 0s - loss: 0.3207 - accuracy: 0.8960 - balanced_acc: 0.8943\n",
            "Epoch 91: val_balanced_acc did not improve from 0.46887\n",
            "221/221 [==============================] - 24s 107ms/step - loss: 0.3207 - accuracy: 0.8960 - balanced_acc: 0.8943 - val_loss: 0.6857 - val_accuracy: 0.7358 - val_balanced_acc: 0.4678 - lr: 0.0010\n",
            "Epoch 92/300\n",
            "221/221 [==============================] - ETA: 0s - loss: 0.3232 - accuracy: 0.8939 - balanced_acc: 0.8930\n",
            "Epoch 92: val_balanced_acc improved from 0.46887 to 0.47365, saving model to /content/drive/MyDrive/PHD/Model/best_model_no.h5\n",
            "221/221 [==============================] - 25s 113ms/step - loss: 0.3232 - accuracy: 0.8939 - balanced_acc: 0.8930 - val_loss: 0.6983 - val_accuracy: 0.7306 - val_balanced_acc: 0.4736 - lr: 0.0010\n",
            "Epoch 93/300\n",
            "221/221 [==============================] - ETA: 0s - loss: 0.3120 - accuracy: 0.8979 - balanced_acc: 0.8965\n",
            "Epoch 93: val_balanced_acc did not improve from 0.47365\n",
            "221/221 [==============================] - 23s 106ms/step - loss: 0.3120 - accuracy: 0.8979 - balanced_acc: 0.8965 - val_loss: 0.7162 - val_accuracy: 0.7098 - val_balanced_acc: 0.4624 - lr: 0.0010\n",
            "Epoch 94/300\n",
            "221/221 [==============================] - ETA: 0s - loss: 0.3164 - accuracy: 0.8949 - balanced_acc: 0.8929\n",
            "Epoch 94: val_balanced_acc did not improve from 0.47365\n",
            "221/221 [==============================] - 23s 106ms/step - loss: 0.3164 - accuracy: 0.8949 - balanced_acc: 0.8929 - val_loss: 0.7047 - val_accuracy: 0.7202 - val_balanced_acc: 0.4726 - lr: 0.0010\n",
            "Epoch 95/300\n",
            "221/221 [==============================] - ETA: 0s - loss: 0.3123 - accuracy: 0.8968 - balanced_acc: 0.8970\n",
            "Epoch 95: val_balanced_acc improved from 0.47365 to 0.47421, saving model to /content/drive/MyDrive/PHD/Model/best_model_no.h5\n",
            "221/221 [==============================] - 25s 112ms/step - loss: 0.3123 - accuracy: 0.8968 - balanced_acc: 0.8970 - val_loss: 0.6570 - val_accuracy: 0.7461 - val_balanced_acc: 0.4742 - lr: 0.0010\n",
            "Epoch 96/300\n",
            "221/221 [==============================] - ETA: 0s - loss: 0.3032 - accuracy: 0.9009 - balanced_acc: 0.9010\n",
            "Epoch 96: val_balanced_acc did not improve from 0.47421\n",
            "221/221 [==============================] - 23s 106ms/step - loss: 0.3032 - accuracy: 0.9009 - balanced_acc: 0.9010 - val_loss: 0.6709 - val_accuracy: 0.7358 - val_balanced_acc: 0.4716 - lr: 0.0010\n",
            "Epoch 97/300\n",
            "221/221 [==============================] - ETA: 0s - loss: 0.3062 - accuracy: 0.9008 - balanced_acc: 0.9003\n",
            "Epoch 97: val_balanced_acc improved from 0.47421 to 0.47509, saving model to /content/drive/MyDrive/PHD/Model/best_model_no.h5\n",
            "221/221 [==============================] - 25s 113ms/step - loss: 0.3062 - accuracy: 0.9008 - balanced_acc: 0.9003 - val_loss: 0.6824 - val_accuracy: 0.7358 - val_balanced_acc: 0.4751 - lr: 0.0010\n",
            "Epoch 98/300\n",
            "221/221 [==============================] - ETA: 0s - loss: 0.3073 - accuracy: 0.8991 - balanced_acc: 0.8989\n",
            "Epoch 98: val_balanced_acc did not improve from 0.47509\n",
            "221/221 [==============================] - 23s 106ms/step - loss: 0.3073 - accuracy: 0.8991 - balanced_acc: 0.8989 - val_loss: 0.6831 - val_accuracy: 0.7306 - val_balanced_acc: 0.4709 - lr: 0.0010\n",
            "Epoch 99/300\n",
            "221/221 [==============================] - ETA: 0s - loss: 0.3049 - accuracy: 0.8987 - balanced_acc: 0.8976\n",
            "Epoch 99: val_balanced_acc did not improve from 0.47509\n",
            "221/221 [==============================] - 23s 106ms/step - loss: 0.3049 - accuracy: 0.8987 - balanced_acc: 0.8976 - val_loss: 0.6678 - val_accuracy: 0.7409 - val_balanced_acc: 0.4697 - lr: 0.0010\n",
            "Epoch 100/300\n",
            "221/221 [==============================] - ETA: 0s - loss: 0.2958 - accuracy: 0.9080 - balanced_acc: 0.9090\n",
            "Epoch 100: val_balanced_acc improved from 0.47509 to 0.47641, saving model to /content/drive/MyDrive/PHD/Model/best_model_no.h5\n",
            "221/221 [==============================] - 25s 112ms/step - loss: 0.2958 - accuracy: 0.9080 - balanced_acc: 0.9090 - val_loss: 0.7166 - val_accuracy: 0.7202 - val_balanced_acc: 0.4764 - lr: 0.0010\n",
            "Epoch 101/300\n",
            "221/221 [==============================] - ETA: 0s - loss: 0.3037 - accuracy: 0.9014 - balanced_acc: 0.9007\n",
            "Epoch 101: val_balanced_acc did not improve from 0.47641\n",
            "221/221 [==============================] - 24s 106ms/step - loss: 0.3037 - accuracy: 0.9014 - balanced_acc: 0.9007 - val_loss: 0.6962 - val_accuracy: 0.7306 - val_balanced_acc: 0.4736 - lr: 0.0010\n",
            "Epoch 102/300\n",
            " 55/221 [======>.......................] - ETA: 17s - loss: 0.2909 - accuracy: 0.9037 - balanced_acc: 0.8982"
          ]
        }
      ],
      "source": [
        "# define model\n",
        "model = define_base_model('resnet50')\n",
        "#model.summary()\n",
        "hst = model.fit(X_train, y_train, epochs=EPOCHS, batch_size=BATCH_SIZE, validation_data=(X_val, y_val), verbose=1,\n",
        "                    steps_per_epoch=X_train.shape[0] // BATCH_SIZE, \n",
        "                    callbacks=[learning_rate_reduction,early_stopping_monitor, mc])\n",
        "# learning curves\n",
        "summarize_diagnostics(hst)"
      ]
    },
    {
      "cell_type": "code",
      "execution_count": null,
      "metadata": {
        "id": "vXnW3lmCgln3"
      },
      "outputs": [],
      "source": [
        "# summarize history for accuracy\n",
        "plt.plot(hst.history['accuracy'])\n",
        "plt.plot(hst.history['balanced_acc'])\n",
        "plt.plot(hst.history['val_accuracy'])\n",
        "plt.plot(hst.history['val_balanced_acc'])\n",
        "plt.title('Model accuracy')\n",
        "plt.ylabel('Performance')\n",
        "plt.xlabel('epoch')\n",
        "plt.legend(['train accuracy', 'train balanced acc.', 'val. accuracy', 'val. balanced acc.'], loc='lower right')\n",
        "plt.show()"
      ]
    },
    {
      "cell_type": "code",
      "execution_count": null,
      "metadata": {
        "id": "rwwLiXUSG0IZ"
      },
      "outputs": [],
      "source": [
        "#Training\n",
        "#hst = model.fit(train_data_batches,\n",
        "#                    epochs = EPOCHS, validation_data = valid_data_batches,      \n",
        "                    #steps_per_epoch=X_train.shape[0] // BATCH_SIZE, \n",
        "#                    callbacks=[learning_rate_reduction,early_stopping_monitor, mc])\n"
      ]
    },
    {
      "cell_type": "markdown",
      "metadata": {
        "id": "icgjmi-4UIT-"
      },
      "source": [
        "#Evaluate"
      ]
    },
    {
      "cell_type": "code",
      "execution_count": null,
      "metadata": {
        "id": "SPz8NH1Oylv9"
      },
      "outputs": [],
      "source": [
        "#save last model\n",
        "model.save(last_model_fpath)"
      ]
    },
    {
      "cell_type": "code",
      "execution_count": null,
      "metadata": {
        "id": "lS3ewyxO_anU"
      },
      "outputs": [],
      "source": [
        "last_model = load_model(last_model_fpath, custom_objects={'balanced_acc' : balanced_acc})\n",
        "y_train_pred = last_model.predict(X_train)\n",
        "y_val_pred = last_model.predict(X_val)\n",
        "\n",
        "#print('accuracy on training',accuracy_score(np.argmax(y_train, axis=1), np.argmax(y_train_pred, axis=1)))\n",
        "print('accuracy on training',accuracy_score(np.argmax(y_train, axis=1), np.argmax(y_train_pred, axis=1)))\n",
        "print('balanced accuracy on training',balanced_accuracy_score(np.argmax(y_train, axis=1), np.argmax(y_train_pred, axis=1)))\n",
        "print('accuracy on validation',accuracy_score(np.argmax(y_val, axis=1), np.argmax(y_val_pred, axis=1)))\n",
        "print('balanced accuracy on validation',balanced_accuracy_score(np.argmax(y_val, axis=1), np.argmax(y_val_pred, axis=1)))\n",
        "print('Score on val data: ',precision_recall_fscore_support(np.argmax(y_val, axis=1), np.argmax(y_val_pred, axis=1), average='macro'))"
      ]
    },
    {
      "cell_type": "code",
      "execution_count": 7,
      "metadata": {
        "id": "W3IyWjdGG4Xq",
        "colab": {
          "base_uri": "https://localhost:8080/"
        },
        "outputId": "62454d54-b340-470f-9d47-ea58e7b1aa87"
      },
      "outputs": [
        {
          "output_type": "stream",
          "name": "stdout",
          "text": [
            "accuracy on training 0.9144769284959493\n",
            "balanced accuracy on training 0.9137750258261318\n",
            "accuracy on validation 0.7202072538860104\n",
            "balanced accuracy on validation 0.7327665656062868\n",
            "Score on val data:  (0.5462996433391171, 0.7327665656062868, 0.5951072111551692, None)\n"
          ]
        }
      ],
      "source": [
        "best_model = load_model(best_model_fpath, custom_objects={'balanced_acc' : balanced_acc})\n",
        "y_train_pred = best_model.predict(X_train)\n",
        "y_val_pred = best_model.predict(X_val)\n",
        "\n",
        "print('accuracy on training',accuracy_score(np.argmax(y_train, axis=1), np.argmax(y_train_pred, axis=1)))\n",
        "print('balanced accuracy on training',balanced_accuracy_score(np.argmax(y_train, axis=1), np.argmax(y_train_pred, axis=1)))\n",
        "print('accuracy on validation',accuracy_score(np.argmax(y_val, axis=1), np.argmax(y_val_pred, axis=1)))\n",
        "print('balanced accuracy on validation',balanced_accuracy_score(np.argmax(y_val, axis=1), np.argmax(y_val_pred, axis=1)))\n",
        "print('Score on val data: ',precision_recall_fscore_support(np.argmax(y_val, axis=1), np.argmax(y_val_pred, axis=1), average='macro'))"
      ]
    },
    {
      "cell_type": "markdown",
      "source": [
        "#Oversampling on feature map level"
      ],
      "metadata": {
        "id": "kE8Ziq-BlEP4"
      }
    },
    {
      "cell_type": "code",
      "source": [
        "i = 143"
      ],
      "metadata": {
        "id": "PtgmvyhCndpB"
      },
      "execution_count": null,
      "outputs": []
    },
    {
      "cell_type": "code",
      "source": [
        "for i in range(len(best_model.layers)):\n",
        "  layer = best_model.layers[i]\n",
        "  print(i, layer.name, layer.output_shape, layer.trainable)"
      ],
      "metadata": {
        "id": "Lm05Zet_B5am"
      },
      "execution_count": null,
      "outputs": []
    },
    {
      "cell_type": "code",
      "source": [
        "# redefine model to output right after the first hidden layer\n",
        "i = 143\n",
        "model = Model(inputs=best_model.inputs, outputs=best_model.layers[i-1].output)"
      ],
      "metadata": {
        "id": "KqeSic6NmLsR"
      },
      "execution_count": null,
      "outputs": []
    },
    {
      "cell_type": "code",
      "source": [
        "# get feature map for first hidden layer\n",
        "X_train_fm = model.predict(X_train)\n",
        "X_val_fm = model.predict(X_val)"
      ],
      "metadata": {
        "id": "ZVHYG9Rwm28i"
      },
      "execution_count": null,
      "outputs": []
    },
    {
      "cell_type": "code",
      "source": [
        "X_train_fm.shape"
      ],
      "metadata": {
        "id": "VNozN8-wDUNL"
      },
      "execution_count": null,
      "outputs": []
    },
    {
      "cell_type": "code",
      "source": [
        "X_train_fm_ov, y_train_ov = SMOTE_Data(X_train_fm, y_train, True, 5, 14, 14, 1024)\n",
        "print(X_train_fm_ov.shape)\n",
        "print(y_train_ov.shape)\n",
        "print(X_val.shape)\n",
        "print(y_val.shape)\n",
        "print('Counter train data: ', Counter(np.argmax(y_train_ov, axis=1)))\n",
        "print('Counter val data: ', Counter(np.argmax(y_val, axis=1)))"
      ],
      "metadata": {
        "id": "19hK7aQNeAQo"
      },
      "execution_count": null,
      "outputs": []
    },
    {
      "cell_type": "code",
      "source": [
        "model2 = Model(inputs=best_model.layers[i-1].output, outputs=best_model.layers[len(best_model.layers)-1].output)"
      ],
      "metadata": {
        "id": "5qP4iyYcnAYa"
      },
      "execution_count": null,
      "outputs": []
    },
    {
      "cell_type": "code",
      "source": [
        "best_model_fpath = '/content/drive/MyDrive/PHD/Model/Feature-Map-Ov/best_model_no.h5'\n",
        "last_model_fpath = '/content/drive/MyDrive/PHD/Model/Feature-Map-Ov/last_model_no.h5'\n",
        "model2.compile(optimizer = opt_SGD , loss = \"categorical_crossentropy\", metrics=['accuracy', balanced_acc])\n",
        "hst = model2.fit(X_train_fm_ov, y_train_ov, epochs=EPOCHS, batch_size=BATCH_SIZE, validation_data=(X_val_fm, y_val), verbose=1,\n",
        "                    steps_per_epoch=X_train.shape[0] // BATCH_SIZE, \n",
        "                    callbacks=[learning_rate_reduction,early_stopping_monitor, mc])"
      ],
      "metadata": {
        "id": "Pzdjs0WbvDB0"
      },
      "execution_count": null,
      "outputs": []
    },
    {
      "cell_type": "code",
      "source": [
        "# summarize history for accuracy\n",
        "plt.plot(hst.history['accuracy'])\n",
        "plt.plot(hst.history['balanced_acc'])\n",
        "plt.plot(hst.history['val_accuracy'])\n",
        "plt.plot(hst.history['val_balanced_acc'])\n",
        "plt.title('Model accuracy')\n",
        "plt.ylabel('Performance')\n",
        "plt.xlabel('epoch')\n",
        "plt.legend(['train accuracy', 'train balanced acc.', 'val. accuracy', 'val. balanced acc.'], loc='lower right')\n",
        "plt.show()"
      ],
      "metadata": {
        "id": "8XhlbWn--8Or"
      },
      "execution_count": null,
      "outputs": []
    },
    {
      "cell_type": "code",
      "source": [
        "# get feature map for first hidden layer\n",
        "y_train_pred = model2.predict(X_train_fm_ov)\n",
        "y_val_pred = model2.predict(X_val_fm)"
      ],
      "metadata": {
        "id": "IW-_U6vFpIci"
      },
      "execution_count": null,
      "outputs": []
    },
    {
      "cell_type": "code",
      "source": [
        "print('accuracy on training',accuracy_score(np.argmax(y_train_ov, axis=1), np.argmax(y_train_pred, axis=1)))\n",
        "print('balanced accuracy on training',balanced_accuracy_score(np.argmax(y_train_ov, axis=1), np.argmax(y_train_pred, axis=1)))\n",
        "print('accuracy on validation',accuracy_score(np.argmax(y_val, axis=1), np.argmax(y_val_pred, axis=1)))\n",
        "print('balanced accuracy on validation',balanced_accuracy_score(np.argmax(y_val, axis=1), np.argmax(y_val_pred, axis=1)))\n",
        "print('Score on val data: ',precision_recall_fscore_support(np.argmax(y_val, axis=1), np.argmax(y_val_pred, axis=1), average='macro'))"
      ],
      "metadata": {
        "id": "OLop0YK-ZK40"
      },
      "execution_count": null,
      "outputs": []
    },
    {
      "cell_type": "markdown",
      "metadata": {
        "id": "iDRWiTnO0MGh"
      },
      "source": [
        "#Cut-off"
      ]
    },
    {
      "cell_type": "code",
      "execution_count": 22,
      "metadata": {
        "id": "tGnCoIdLyDHS"
      },
      "outputs": [],
      "source": [
        "df_val_pred = pd.DataFrame(y_val_pred, columns = ['AKIEC', 'BCC', 'BKL', 'DF', 'MEL', 'NV', 'VASC'])"
      ]
    },
    {
      "cell_type": "code",
      "execution_count": 23,
      "metadata": {
        "colab": {
          "base_uri": "https://localhost:8080/",
          "height": 206
        },
        "id": "QdyCbloQyWTC",
        "outputId": "fc7dc3aa-1e48-41a5-e6a9-cfaada1de817"
      },
      "outputs": [
        {
          "output_type": "execute_result",
          "data": {
            "text/plain": [
              "          AKIEC       BCC       BKL        DF       MEL        NV      VASC  \\\n",
              "0  4.000000e+00  4.000000  4.000000  4.000000  4.000000  4.000000  4.000000   \n",
              "1  1.102238e-04  0.000009  0.014549  0.000010  0.010376  0.974909  0.000037   \n",
              "2  1.202458e-01  0.862706  0.007830  0.002828  0.005415  0.000890  0.000086   \n",
              "3  6.322284e-07  0.000003  0.197923  0.000023  0.002732  0.787744  0.011574   \n",
              "4  6.019616e-05  0.000008  0.001310  0.000063  0.017424  0.981026  0.000109   \n",
              "\n",
              "   0.0  0.025  0.05  0.075  0.1  0.125  0.15  0.175  0.2  0.225  0.25  \n",
              "0    1      1     1      1    1      1     1      1    1      1     1  \n",
              "1    1      0     0      0    0      0     0      0    0      0     0  \n",
              "2    1      0     0      0    0      0     0      0    0      0     0  \n",
              "3    1      0     0      0    0      0     0      0    0      0     0  \n",
              "4    1      0     0      0    0      0     0      0    0      0     0  "
            ],
            "text/html": [
              "\n",
              "  <div id=\"df-0ab50a96-cee5-4ce2-9ff3-156784a915d4\">\n",
              "    <div class=\"colab-df-container\">\n",
              "      <div>\n",
              "<style scoped>\n",
              "    .dataframe tbody tr th:only-of-type {\n",
              "        vertical-align: middle;\n",
              "    }\n",
              "\n",
              "    .dataframe tbody tr th {\n",
              "        vertical-align: top;\n",
              "    }\n",
              "\n",
              "    .dataframe thead th {\n",
              "        text-align: right;\n",
              "    }\n",
              "</style>\n",
              "<table border=\"1\" class=\"dataframe\">\n",
              "  <thead>\n",
              "    <tr style=\"text-align: right;\">\n",
              "      <th></th>\n",
              "      <th>AKIEC</th>\n",
              "      <th>BCC</th>\n",
              "      <th>BKL</th>\n",
              "      <th>DF</th>\n",
              "      <th>MEL</th>\n",
              "      <th>NV</th>\n",
              "      <th>VASC</th>\n",
              "      <th>0.0</th>\n",
              "      <th>0.025</th>\n",
              "      <th>0.05</th>\n",
              "      <th>0.075</th>\n",
              "      <th>0.1</th>\n",
              "      <th>0.125</th>\n",
              "      <th>0.15</th>\n",
              "      <th>0.175</th>\n",
              "      <th>0.2</th>\n",
              "      <th>0.225</th>\n",
              "      <th>0.25</th>\n",
              "    </tr>\n",
              "  </thead>\n",
              "  <tbody>\n",
              "    <tr>\n",
              "      <th>0</th>\n",
              "      <td>4.000000e+00</td>\n",
              "      <td>4.000000</td>\n",
              "      <td>4.000000</td>\n",
              "      <td>4.000000</td>\n",
              "      <td>4.000000</td>\n",
              "      <td>4.000000</td>\n",
              "      <td>4.000000</td>\n",
              "      <td>1</td>\n",
              "      <td>1</td>\n",
              "      <td>1</td>\n",
              "      <td>1</td>\n",
              "      <td>1</td>\n",
              "      <td>1</td>\n",
              "      <td>1</td>\n",
              "      <td>1</td>\n",
              "      <td>1</td>\n",
              "      <td>1</td>\n",
              "      <td>1</td>\n",
              "    </tr>\n",
              "    <tr>\n",
              "      <th>1</th>\n",
              "      <td>1.102238e-04</td>\n",
              "      <td>0.000009</td>\n",
              "      <td>0.014549</td>\n",
              "      <td>0.000010</td>\n",
              "      <td>0.010376</td>\n",
              "      <td>0.974909</td>\n",
              "      <td>0.000037</td>\n",
              "      <td>1</td>\n",
              "      <td>0</td>\n",
              "      <td>0</td>\n",
              "      <td>0</td>\n",
              "      <td>0</td>\n",
              "      <td>0</td>\n",
              "      <td>0</td>\n",
              "      <td>0</td>\n",
              "      <td>0</td>\n",
              "      <td>0</td>\n",
              "      <td>0</td>\n",
              "    </tr>\n",
              "    <tr>\n",
              "      <th>2</th>\n",
              "      <td>1.202458e-01</td>\n",
              "      <td>0.862706</td>\n",
              "      <td>0.007830</td>\n",
              "      <td>0.002828</td>\n",
              "      <td>0.005415</td>\n",
              "      <td>0.000890</td>\n",
              "      <td>0.000086</td>\n",
              "      <td>1</td>\n",
              "      <td>0</td>\n",
              "      <td>0</td>\n",
              "      <td>0</td>\n",
              "      <td>0</td>\n",
              "      <td>0</td>\n",
              "      <td>0</td>\n",
              "      <td>0</td>\n",
              "      <td>0</td>\n",
              "      <td>0</td>\n",
              "      <td>0</td>\n",
              "    </tr>\n",
              "    <tr>\n",
              "      <th>3</th>\n",
              "      <td>6.322284e-07</td>\n",
              "      <td>0.000003</td>\n",
              "      <td>0.197923</td>\n",
              "      <td>0.000023</td>\n",
              "      <td>0.002732</td>\n",
              "      <td>0.787744</td>\n",
              "      <td>0.011574</td>\n",
              "      <td>1</td>\n",
              "      <td>0</td>\n",
              "      <td>0</td>\n",
              "      <td>0</td>\n",
              "      <td>0</td>\n",
              "      <td>0</td>\n",
              "      <td>0</td>\n",
              "      <td>0</td>\n",
              "      <td>0</td>\n",
              "      <td>0</td>\n",
              "      <td>0</td>\n",
              "    </tr>\n",
              "    <tr>\n",
              "      <th>4</th>\n",
              "      <td>6.019616e-05</td>\n",
              "      <td>0.000008</td>\n",
              "      <td>0.001310</td>\n",
              "      <td>0.000063</td>\n",
              "      <td>0.017424</td>\n",
              "      <td>0.981026</td>\n",
              "      <td>0.000109</td>\n",
              "      <td>1</td>\n",
              "      <td>0</td>\n",
              "      <td>0</td>\n",
              "      <td>0</td>\n",
              "      <td>0</td>\n",
              "      <td>0</td>\n",
              "      <td>0</td>\n",
              "      <td>0</td>\n",
              "      <td>0</td>\n",
              "      <td>0</td>\n",
              "      <td>0</td>\n",
              "    </tr>\n",
              "  </tbody>\n",
              "</table>\n",
              "</div>\n",
              "      <button class=\"colab-df-convert\" onclick=\"convertToInteractive('df-0ab50a96-cee5-4ce2-9ff3-156784a915d4')\"\n",
              "              title=\"Convert this dataframe to an interactive table.\"\n",
              "              style=\"display:none;\">\n",
              "        \n",
              "  <svg xmlns=\"http://www.w3.org/2000/svg\" height=\"24px\"viewBox=\"0 0 24 24\"\n",
              "       width=\"24px\">\n",
              "    <path d=\"M0 0h24v24H0V0z\" fill=\"none\"/>\n",
              "    <path d=\"M18.56 5.44l.94 2.06.94-2.06 2.06-.94-2.06-.94-.94-2.06-.94 2.06-2.06.94zm-11 1L8.5 8.5l.94-2.06 2.06-.94-2.06-.94L8.5 2.5l-.94 2.06-2.06.94zm10 10l.94 2.06.94-2.06 2.06-.94-2.06-.94-.94-2.06-.94 2.06-2.06.94z\"/><path d=\"M17.41 7.96l-1.37-1.37c-.4-.4-.92-.59-1.43-.59-.52 0-1.04.2-1.43.59L10.3 9.45l-7.72 7.72c-.78.78-.78 2.05 0 2.83L4 21.41c.39.39.9.59 1.41.59.51 0 1.02-.2 1.41-.59l7.78-7.78 2.81-2.81c.8-.78.8-2.07 0-2.86zM5.41 20L4 18.59l7.72-7.72 1.47 1.35L5.41 20z\"/>\n",
              "  </svg>\n",
              "      </button>\n",
              "      \n",
              "  <style>\n",
              "    .colab-df-container {\n",
              "      display:flex;\n",
              "      flex-wrap:wrap;\n",
              "      gap: 12px;\n",
              "    }\n",
              "\n",
              "    .colab-df-convert {\n",
              "      background-color: #E8F0FE;\n",
              "      border: none;\n",
              "      border-radius: 50%;\n",
              "      cursor: pointer;\n",
              "      display: none;\n",
              "      fill: #1967D2;\n",
              "      height: 32px;\n",
              "      padding: 0 0 0 0;\n",
              "      width: 32px;\n",
              "    }\n",
              "\n",
              "    .colab-df-convert:hover {\n",
              "      background-color: #E2EBFA;\n",
              "      box-shadow: 0px 1px 2px rgba(60, 64, 67, 0.3), 0px 1px 3px 1px rgba(60, 64, 67, 0.15);\n",
              "      fill: #174EA6;\n",
              "    }\n",
              "\n",
              "    [theme=dark] .colab-df-convert {\n",
              "      background-color: #3B4455;\n",
              "      fill: #D2E3FC;\n",
              "    }\n",
              "\n",
              "    [theme=dark] .colab-df-convert:hover {\n",
              "      background-color: #434B5C;\n",
              "      box-shadow: 0px 1px 3px 1px rgba(0, 0, 0, 0.15);\n",
              "      filter: drop-shadow(0px 1px 2px rgba(0, 0, 0, 0.3));\n",
              "      fill: #FFFFFF;\n",
              "    }\n",
              "  </style>\n",
              "\n",
              "      <script>\n",
              "        const buttonEl =\n",
              "          document.querySelector('#df-0ab50a96-cee5-4ce2-9ff3-156784a915d4 button.colab-df-convert');\n",
              "        buttonEl.style.display =\n",
              "          google.colab.kernel.accessAllowed ? 'block' : 'none';\n",
              "\n",
              "        async function convertToInteractive(key) {\n",
              "          const element = document.querySelector('#df-0ab50a96-cee5-4ce2-9ff3-156784a915d4');\n",
              "          const dataTable =\n",
              "            await google.colab.kernel.invokeFunction('convertToInteractive',\n",
              "                                                     [key], {});\n",
              "          if (!dataTable) return;\n",
              "\n",
              "          const docLinkHtml = 'Like what you see? Visit the ' +\n",
              "            '<a target=\"_blank\" href=https://colab.research.google.com/notebooks/data_table.ipynb>data table notebook</a>'\n",
              "            + ' to learn more about interactive tables.';\n",
              "          element.innerHTML = '';\n",
              "          dataTable['output_type'] = 'display_data';\n",
              "          await google.colab.output.renderOutput(dataTable, element);\n",
              "          const docLink = document.createElement('div');\n",
              "          docLink.innerHTML = docLinkHtml;\n",
              "          element.appendChild(docLink);\n",
              "        }\n",
              "      </script>\n",
              "    </div>\n",
              "  </div>\n",
              "  "
            ]
          },
          "metadata": {},
          "execution_count": 23
        }
      ],
      "source": [
        "numbers = [float(x)/40 for x in range(11)]\n",
        "for i in numbers:\n",
        "    df_val_pred[i]= df_val_pred.MEL.map(lambda x: 1 if x > i else 0)\n",
        "df_val_pred.head()"
      ]
    },
    {
      "cell_type": "code",
      "execution_count": 24,
      "metadata": {
        "id": "G4SQsRx73kgk"
      },
      "outputs": [],
      "source": [
        "y_val_true= [1 if x == 4 else 0 for x in np.argmax(y_val, axis=1)]"
      ]
    },
    {
      "cell_type": "code",
      "execution_count": 25,
      "metadata": {
        "id": "QcUISWFi0J05"
      },
      "outputs": [],
      "source": [
        "#num = [0.0,0.05,0.1,0.15,0.2,0.25,0.3,0.35,0.4,0.45,0.5]\n",
        "cutoff_df = pd.DataFrame( columns = ['Probability','Accuracy','Sensitivity','Specificity'])\n",
        "for i in numbers:\n",
        "    cm1 = confusion_matrix(y_val_true, df_val_pred[i])\n",
        "    total1=sum(sum(cm1))\n",
        "    Accuracy = (cm1[0,0]+cm1[1,1])/total1\n",
        "    Specificity = cm1[0,0]/(cm1[0,0]+cm1[0,1])\n",
        "    Sensitivity = cm1[1,1]/(cm1[1,0]+cm1[1,1])\n",
        "    cutoff_df.loc[i] =[ i ,Accuracy,Sensitivity,Specificity]"
      ]
    },
    {
      "cell_type": "code",
      "execution_count": 26,
      "metadata": {
        "id": "W31LSzov1tCt",
        "colab": {
          "base_uri": "https://localhost:8080/",
          "height": 211
        },
        "outputId": "eeb4dddd-368e-4c6c-fc24-83edb28c47e7"
      },
      "outputs": [
        {
          "output_type": "display_data",
          "data": {
            "text/plain": [
              "<Figure size 1080x216 with 1 Axes>"
            ],
            "image/png": "[encoded data removed]"
          },
          "metadata": {
            "needs_background": "light"
          }
        }
      ],
      "source": [
        "cutoff_df[['Accuracy','Sensitivity','Specificity']].plot()\n",
        "\n",
        "plt.show()"
      ]
    },
    {
      "cell_type": "code",
      "execution_count": 27,
      "metadata": {
        "id": "P6CIKT94Jqye"
      },
      "outputs": [],
      "source": [
        "i = 0.075\n",
        "cm1 = confusion_matrix(y_val_true, df_val_pred[i])\n",
        "total1=sum(sum(cm1))\n",
        "Accuracy = (cm1[0,0]+cm1[1,1])/total1\n",
        "Specificity = cm1[0,0]/(cm1[0,0]+cm1[0,1])\n",
        "Sensitivity = cm1[1,1]/(cm1[1,0]+cm1[1,1])"
      ]
    },
    {
      "cell_type": "code",
      "execution_count": 28,
      "metadata": {
        "id": "3U2tkFebL_VC",
        "colab": {
          "base_uri": "https://localhost:8080/"
        },
        "outputId": "3480a8d2-66c8-405a-f551-8fc59bd3c462"
      },
      "outputs": [
        {
          "output_type": "stream",
          "name": "stdout",
          "text": [
            "Accuracy:  0.6528497409326425\n",
            "Sensitivity:  1.0\n",
            "Specificity:  0.6104651162790697\n"
          ]
        }
      ],
      "source": [
        "print('Accuracy: ', Accuracy)\n",
        "print('Sensitivity: ', Sensitivity)\n",
        "print('Specificity: ', Specificity)"
      ]
    },
    {
      "cell_type": "markdown",
      "metadata": {
        "id": "eaK4zbtoaAaC"
      },
      "source": [
        "#Confusion Metric on Validation Set"
      ]
    },
    {
      "cell_type": "code",
      "execution_count": 29,
      "metadata": {
        "id": "YkPOFLehOmFg"
      },
      "outputs": [],
      "source": [
        "#change melanoma flag back to 4\n",
        "df_val_pred[df_val_pred[i] == 1] = 4\n",
        "#decode one-hot y_val_pred while use cut-off melanoma data\n",
        "condition = df_val_pred[i] == 4\n",
        "y_val_pred2 = np.where(condition, df_val_pred[i], np.argmax(y_val_pred, axis=1))"
      ]
    },
    {
      "cell_type": "code",
      "execution_count": 30,
      "metadata": {
        "id": "LOVl6dWlTDLo",
        "colab": {
          "base_uri": "https://localhost:8080/"
        },
        "outputId": "fdfe2ac3-ad76-423c-d8fb-5140e3184eed"
      },
      "outputs": [
        {
          "output_type": "stream",
          "name": "stdout",
          "text": [
            "Accuracy:  0.5906735751295337\n",
            "Balanced accuracy:  0.6207660225952909\n"
          ]
        }
      ],
      "source": [
        "print('Accuracy: ',accuracy_score(np.argmax(y_val, axis=1), y_val_pred2))\n",
        "print('Balanced accuracy: ',balanced_accuracy_score(np.argmax(y_val, axis=1), y_val_pred2))"
      ]
    },
    {
      "cell_type": "code",
      "execution_count": 31,
      "metadata": {
        "id": "mqvYutTKRhR_",
        "colab": {
          "base_uri": "https://localhost:8080/"
        },
        "outputId": "481f1bb2-7b6b-4e51-baef-036bd0f9e864"
      },
      "outputs": [
        {
          "output_type": "stream",
          "name": "stdout",
          "text": [
            "[[ 3  0  1  0  4  0  0]\n",
            " [ 3  7  0  2  3  0  0]\n",
            " [ 0  1  5  1 15  0  0]\n",
            " [ 0  0  0  1  0  0  0]\n",
            " [ 0  0  0  0 21  0  0]\n",
            " [ 0  1  3  0 44 75  0]\n",
            " [ 0  0  0  0  1  0  2]]\n"
          ]
        }
      ],
      "source": [
        "#Get the confusion matrix\n",
        "cf_matrix = confusion_matrix(np.argmax(y_val, axis=1), y_val_pred2)\n",
        "print(cf_matrix)"
      ]
    },
    {
      "cell_type": "code",
      "execution_count": 32,
      "metadata": {
        "id": "gVtvW3YeaLlC",
        "colab": {
          "base_uri": "https://localhost:8080/",
          "height": 285
        },
        "outputId": "0160a847-45d4-430c-92fc-56a6de0e6c20"
      },
      "outputs": [
        {
          "output_type": "display_data",
          "data": {
            "text/plain": [
              "<Figure size 1080x216 with 2 Axes>"
            ],
            "image/png": "[encoded data removed]"
          },
          "metadata": {
            "needs_background": "light"
          }
        }
      ],
      "source": [
        "ax = sns.heatmap(cf_matrix / cf_matrix.sum(axis=1, keepdims=True), annot=True, \n",
        "            cmap='Blues')\n",
        "\n",
        "ax.set_title('Confusion Matrix \\n');\n",
        "ax.set_xlabel('\\nPredicted')\n",
        "ax.set_ylabel('Actual ');\n",
        "\n",
        "## Ticket labels - List must be in alphabetical order\n",
        "ax.xaxis.set_ticklabels(['AKIEC', 'BCC', 'BKL', 'DF', 'MEL', 'NV', 'VASC'])\n",
        "ax.yaxis.set_ticklabels(['AKIEC', 'BCC', 'BKL', 'DF', 'MEL', 'NV', 'VASC'])\n",
        "\n",
        "plt.rcParams[\"figure.figsize\"] = (15,3)\n",
        "\n",
        "## Display the visualization of the Confusion Matrix.\n",
        "plt.xticks(rotation=45, ha='right')\n",
        "plt.yticks(rotation=0, ha='right')\n",
        "plt.show()"
      ]
    },
    {
      "cell_type": "code",
      "execution_count": 33,
      "metadata": {
        "id": "Ey-1yjWGeKs7"
      },
      "outputs": [],
      "source": [
        "# ordered count of rows per unique label\n",
        "#labels_count = df_val['Labels'].value_counts().sort_index()\n",
        "\n",
        "#f = plt.figure(figsize=(15, 6))\n",
        "#s = sns.barplot(x=labels_count.index,y=labels_count.values)\n",
        "#s.set_xticklabels(s.get_xticklabels(), rotation = 30)"
      ]
    },
    {
      "cell_type": "markdown",
      "metadata": {
        "id": "3K908bbiYwbS"
      },
      "source": [
        "#Testing"
      ]
    },
    {
      "cell_type": "code",
      "execution_count": null,
      "metadata": {
        "id": "NeMY2yvMYxsC"
      },
      "outputs": [],
      "source": [
        "dir_test = '/content/drive/MyDrive/PHD/Datasets/isic2018/ISIC2018_Task3_Test_Input/'\n",
        "filepaths = sorted( filter( lambda x: (os.path.isfile(os.path.join(dir_test, x))) and (x.endswith('.jpg')),\n",
        "                        os.listdir(dir_test) ) )"
      ]
    },
    {
      "cell_type": "code",
      "execution_count": null,
      "metadata": {
        "id": "6ic95mefkpG3"
      },
      "outputs": [],
      "source": [
        "df_test = pd.DataFrame(filepaths, columns =['image'])\n",
        "df_test['FilePaths'] = dir_test + df_test['image']\n",
        "#df_test"
      ]
    },
    {
      "cell_type": "code",
      "execution_count": null,
      "metadata": {
        "id": "NBa1TxPuY8ni"
      },
      "outputs": [],
      "source": [
        "df_test['image_px'] = df_test['FilePaths'].map(lambda x: np.asarray(Image.open(x).resize(IMG_SIZE)))"
      ]
    },
    {
      "cell_type": "code",
      "execution_count": null,
      "metadata": {
        "colab": {
          "base_uri": "https://localhost:8080/"
        },
        "id": "60LYAT7VsNOZ",
        "outputId": "2aa2c11c-6d22-4837-ce17-ec22f5ddda42"
      },
      "outputs": [
        {
          "output_type": "stream",
          "name": "stdout",
          "text": [
            "(1512, 224, 224, 3)\n"
          ]
        }
      ],
      "source": [
        "X_test = np.asarray(df_test['image_px'].tolist())\n",
        "print(np.array(X_test).shape)"
      ]
    },
    {
      "cell_type": "code",
      "execution_count": null,
      "metadata": {
        "id": "cXnnIIwC4cHE"
      },
      "outputs": [],
      "source": [
        "#preprocess\n",
        "X_test = preprocess_image_input(X_test)"
      ]
    },
    {
      "cell_type": "markdown",
      "metadata": {
        "id": "FF7ml90JZ8FK"
      },
      "source": [
        "Calculate y_pred from training and testing for analysis"
      ]
    },
    {
      "cell_type": "code",
      "source": [
        "X_test = model.predict(X_test)"
      ],
      "metadata": {
        "id": "KeDTXdaMLmyU"
      },
      "execution_count": null,
      "outputs": []
    },
    {
      "cell_type": "code",
      "execution_count": null,
      "metadata": {
        "colab": {
          "base_uri": "https://localhost:8080/"
        },
        "id": "dIX0AmEFNv3Y",
        "outputId": "5edbf106-6a66-4e09-d1d4-7d4a11fa144d"
      },
      "outputs": [
        {
          "output_type": "stream",
          "name": "stdout",
          "text": [
            "Y_pred2 (1512, 7)\n"
          ]
        }
      ],
      "source": [
        "# predicting\n",
        "#CHANGE THE MODEL IF NECESSARY\n",
        "Y_pred2 = model2.predict(X_test)\n",
        "print(\"Y_pred2\", Y_pred2.shape)"
      ]
    },
    {
      "cell_type": "code",
      "execution_count": null,
      "metadata": {
        "id": "7oeArO5CtxGb"
      },
      "outputs": [],
      "source": [
        "df_pred = pd.DataFrame(Y_pred2, columns = ['AKIEC', 'BCC', 'BKL', 'DF', 'MEL', 'NV', 'VASC'])\n",
        "df_pred['image'] = df_test['FilePaths'].map(lambda x: x.replace(dir_test, '').replace('.jpg', ''))\n",
        "df_pred = df_pred[['image', 'MEL', 'NV', 'BCC', 'AKIEC', 'BKL', 'DF', 'VASC']]\n",
        "df_pred.set_index(\"image\", inplace = True)"
      ]
    },
    {
      "cell_type": "code",
      "execution_count": null,
      "metadata": {
        "id": "9ynyd8PjT589"
      },
      "outputs": [],
      "source": [
        "#update MEL data using cut-off value\n",
        "df_pred.MEL[df_pred.MEL > i] = 1"
      ]
    },
    {
      "cell_type": "code",
      "execution_count": null,
      "metadata": {
        "id": "fjRdONoQVMq0"
      },
      "outputs": [],
      "source": [
        "df_pred.loc[df_pred.MEL > i, ['NV', 'BCC', 'AKIEC', 'BKL', 'DF', 'VASC']] = 0"
      ]
    },
    {
      "cell_type": "code",
      "execution_count": null,
      "metadata": {
        "id": "sOnjc3RJ0e4T"
      },
      "outputs": [],
      "source": [
        "df_pred.to_csv('/content/drive/MyDrive/PHD/Datasets/isic2018/response_Oversampling_featuremapsbeforelastblock_resnet_trainablelastblock.csv')"
      ]
    },
    {
      "cell_type": "markdown",
      "source": [
        "result: 0.656"
      ],
      "metadata": {
        "id": "P0MghVs0tsGw"
      }
    },
    {
      "cell_type": "markdown",
      "metadata": {
        "id": "RcRGeofw-8tK"
      },
      "source": [
        "#Load ISIC 2018 Challange Data"
      ]
    },
    {
      "cell_type": "code",
      "execution_count": null,
      "metadata": {
        "id": "l3P7IjyLuZGY"
      },
      "outputs": [],
      "source": [
        "X_train, y_train, X_val, y_val = load_isic2018_dataset(train_under_frac = 0.7)"
      ]
    },
    {
      "cell_type": "code",
      "execution_count": null,
      "metadata": {
        "colab": {
          "base_uri": "https://localhost:8080/",
          "height": 512
        },
        "id": "2IncA-_o_n5w",
        "outputId": "6db08704-addd-42d9-9371-4d805a2db101"
      },
      "outputs": [
        {
          "data": {
            "text/plain": [
              "[Text(0, 0, 'DF'),\n",
              " Text(0, 0, 'VASC'),\n",
              " Text(0, 0, 'AKIEC'),\n",
              " Text(0, 0, 'BCC'),\n",
              " Text(0, 0, 'BKL'),\n",
              " Text(0, 0, 'MEL'),\n",
              " Text(0, 0, 'NV')]"
            ]
          },
          "execution_count": 5,
          "metadata": {},
          "output_type": "execute_result"
        },
        {
          "data": {
            "image/png": "[encoded data removed]",
            "text/plain": [
              "<Figure size 1080x432 with 1 Axes>"
            ]
          },
          "metadata": {},
          "output_type": "display_data"
        }
      ],
      "source": [
        "# ordered count of rows per unique label\n",
        "labels_count = y_train.value_counts(ascending=True)\n",
        "\n",
        "f = plt.figure(figsize=(15, 6))\n",
        "s = sns.barplot(x=labels_count.index,y=labels_count.values)\n",
        "s.set_xticklabels(s.get_xticklabels(), rotation = 30)"
      ]
    },
    {
      "cell_type": "markdown",
      "metadata": {
        "id": "AnKMKSb4Bkym"
      },
      "source": [
        "Plot 3 images per label"
      ]
    },
    {
      "cell_type": "code",
      "execution_count": null,
      "metadata": {
        "id": "jdnVuqbFBW3K"
      },
      "outputs": [],
      "source": [
        "def plot_images_per_label(df, label, cols: int, size: tuple):\n",
        "    fig, axs = plt.subplots(nrows=1, ncols=cols, figsize=size)\n",
        "\n",
        "    cntMax = cols\n",
        "    cntCur = 0\n",
        "    for index, row in df.iterrows():\n",
        "        if(y_train == label and cntCur < cntMax):\n",
        "            axs[cntCur].imshow(plt.imread(df.FilePaths[index]))\n",
        "            axs[cntCur].set_title(df.Labels[index])\n",
        "\n",
        "            cntCur += 1\n",
        "        else:\n",
        "            if(cntCur >= cntMax):\n",
        "                break\n",
        "    \n",
        "    plt.tight_layout()\n",
        "    plt.show()\n",
        "\n",
        "\n",
        "# unique labels\n",
        "#labels = sorted(df_train['Labels'].unique())\n",
        "#for label in range(7):\n",
        "#    plot_images_per_label(y_train, 3, (12,9))"
      ]
    },
    {
      "cell_type": "markdown",
      "metadata": {
        "id": "qRKKrNacAZtl"
      },
      "source": [
        "Drop duplicate images"
      ]
    },
    {
      "cell_type": "code",
      "execution_count": null,
      "metadata": {
        "id": "ERwfyPDHP-zC"
      },
      "outputs": [],
      "source": [
        "#df_group = pd.read_csv('/content/drive/MyDrive/PHD/Datasets/isic2018/ISIC2018_Task3_Training_LesionGroupings.csv') \n",
        "#df_train = df_train.set_index('image').join(df_group.set_index('image'))\n",
        "#df_train = df_train.drop_duplicates(subset=['lesion_id'])"
      ]
    },
    {
      "cell_type": "markdown",
      "metadata": {
        "id": "cNBXx28B9yGu"
      },
      "source": [
        "#DeepSMOTE Oversampling"
      ]
    },
    {
      "cell_type": "code",
      "execution_count": null,
      "metadata": {
        "id": "YmX_Uqbmj-tN"
      },
      "outputs": [],
      "source": [
        "from numpy import moveaxis\n",
        "from sklearn.neighbors import NearestNeighbors\n",
        "import torch\n",
        "import torch.nn as nn\n",
        "\n",
        "max_el = np.inf\n",
        "\n",
        "args = {}\n",
        "args['dim_h'] = 64         # factor controlling size of hidden layers\n",
        "args['n_channel'] = 3#1    # number of channels in the input data \n",
        "args['n_z'] = 600 #300     # number of dimensions in latent space. \n",
        "args['sigma'] = 1.0        # variance in n_z\n",
        "args['lambda'] = 0.01      # hyper param for weight of discriminator loss\n",
        "args['lr'] = 0.0002        # learning rate for Adam optimizer .000\n",
        "args['epochs'] = 300       # how many epochs to run for\n",
        "args['batch_size'] = 100   # batch size for SGD\n",
        "args['save'] = True        # save weights at each epoch of training if True\n",
        "args['train'] = True       # train networks if True, else load networks from\n",
        "args['patience'] = 20"
      ]
    },
    {
      "cell_type": "code",
      "execution_count": null,
      "metadata": {
        "id": "NydOdPMajEfT"
      },
      "outputs": [],
      "source": [
        "class Encoder(nn.Module):\n",
        "    def __init__(self, args):\n",
        "        super(Encoder, self).__init__()\n",
        "\n",
        "        self.n_channel = args['n_channel']\n",
        "        self.dim_h = args['dim_h']\n",
        "        self.n_z = args['n_z']\n",
        "        \n",
        "        # convolutional filters, work excellent with image data\n",
        "        # [(W−K+2P)/S]+1\n",
        "        self.conv = nn.Sequential(\n",
        "            nn.AvgPool2d(7, stride=7),\n",
        "            nn.Conv2d(self.n_channel, self.dim_h, 4, 2, 1, bias=False),# 16\n",
        "            nn.LeakyReLU(0.2, inplace=True),\n",
        "            nn.Conv2d(self.dim_h, self.dim_h * 2, 4, 2, 1, bias=False), # 8\n",
        "            nn.BatchNorm2d(self.dim_h * 2),\n",
        "            nn.LeakyReLU(0.2, inplace=True),\n",
        "            nn.Conv2d(self.dim_h * 2, self.dim_h * 4, 4, 2, 1, bias=False),# 4\n",
        "            nn.BatchNorm2d(self.dim_h * 4),\n",
        "            nn.LeakyReLU(0.2, inplace=True),\n",
        "            nn.Conv2d(self.dim_h * 4, self.dim_h * 8, 4, 2, 0, bias=False),#14\n",
        "            nn.BatchNorm2d(self.dim_h * 8),\n",
        "            nn.LeakyReLU(0.2, inplace=True))\n",
        "        self.fc = nn.Linear(self.dim_h * (2 ** 3), self.n_z)\n",
        "\n",
        "    def forward(self, x):\n",
        "        x = self.conv(x)\n",
        "        \n",
        "        x = x.squeeze()\n",
        "        x = self.fc(x)\n",
        "        return x\n",
        "\n",
        "\n",
        "class Decoder(nn.Module):\n",
        "    def __init__(self, args):\n",
        "        super(Decoder, self).__init__()\n",
        "\n",
        "        self.n_channel = args['n_channel']\n",
        "        self.dim_h = args['dim_h']\n",
        "        self.n_z = args['n_z']\n",
        "\n",
        "        # first layer is fully connected\n",
        "        self.fc = nn.Sequential(\n",
        "            nn.Linear(self.n_z, self.dim_h * 2**3 * 7 * 7),\n",
        "            nn.ReLU())\n",
        "\n",
        "        # deconvolutional filters, essentially inverse of convolutional filters\n",
        "        # H_out ​= (H_in​−1)*stride[0] − 2×padding[0] + dilation[0]×(kernel_size[0]−1) + output_padding[0] + 1\n",
        "        self.deconv = nn.Sequential(\n",
        "            nn.ConvTranspose2d(self.dim_h * 8, self.dim_h * 4, 4), #10\n",
        "            nn.BatchNorm2d(self.dim_h * 4),\n",
        "            nn.ReLU(True),\n",
        "            nn.ConvTranspose2d(self.dim_h * 4, self.dim_h * 2, 4), #13\n",
        "            nn.BatchNorm2d(self.dim_h * 2),\n",
        "            nn.ReLU(True),\n",
        "            nn.ConvTranspose2d(self.dim_h * 2, self.dim_h, 4),# 16\n",
        "            nn.BatchNorm2d(self.dim_h),\n",
        "            nn.ReLU(True),\n",
        "            nn.ConvTranspose2d(self.dim_h, 3, 4, 2, 1),# 32\n",
        "            nn.UpsamplingBilinear2d(scale_factor=7),\n",
        "            nn.Tanh())\n",
        "\n",
        "    def forward(self, x):\n",
        "        x = self.fc(x)\n",
        "        x = x.view(-1, self.dim_h * 2**3, 7, 7)\n",
        "        x = self.deconv(x)\n",
        "        return x\n",
        "\n",
        "##############################################################################\n",
        "\"\"\"set models, loss functions\"\"\"\n",
        "# control which parameters are frozen / free for optimization\n",
        "def free_params(module: nn.Module):\n",
        "    for p in module.parameters():\n",
        "        p.requires_grad = True\n",
        "\n",
        "def frozen_params(module: nn.Module):\n",
        "    for p in module.parameters():\n",
        "        p.requires_grad = False\n",
        "\n",
        "def biased_get_class(X, y, c):\n",
        "    \n",
        "    xbeg = X[y == c]\n",
        "    ybeg = y[y == c]\n",
        "    \n",
        "    return xbeg, ybeg\n",
        "    #return xclass, yclass\n",
        "\n",
        "def G_SM(X, y,n_to_sample,cl):\n",
        "    n_neigh = 5\n",
        "    nn = NearestNeighbors(n_neighbors=n_neigh, n_jobs=1)\n",
        "    nn.fit(X)\n",
        "    dist, ind = nn.kneighbors(X)\n",
        "\n",
        "    # generating samples\n",
        "    base_indices = np.random.choice(list(range(len(X))),n_to_sample)\n",
        "    neighbor_indices = np.random.choice(list(range(1, n_neigh)),n_to_sample)\n",
        "\n",
        "    X_base = X[base_indices]\n",
        "    X_neighbor = X[ind[base_indices, neighbor_indices]]\n",
        "\n",
        "    samples = X_base + np.multiply(np.random.rand(n_to_sample,1),\n",
        "            X_neighbor - X_base)\n",
        "\n",
        "    #use 10 as label because 0 to 9 real classes and 1 fake/smoted = 10\n",
        "    return samples, [cl]*n_to_sample\n",
        "\n",
        "def DeepSMOTE_train(X_train, y_train, one_hot = False):\n",
        "  from torch.utils.data import TensorDataset\n",
        "  import os\n",
        "\n",
        "  max_el = np.max(X_train)\n",
        "  X_train = X_train / max_el\n",
        "  X_train = moveaxis(X_train, 3, 1)\n",
        "  if one_hot:\n",
        "    y_train = np.argmax(y_train, axis=1)\n",
        "  #X_train = X_train.astype('float32') / 255.\n",
        "  \n",
        "  batch_size = args['batch_size']\n",
        "  patience = args['patience']\n",
        "  encoder = Encoder(args)\n",
        "  decoder = Decoder(args)\n",
        "\n",
        "  device = 'cuda' if torch.cuda.is_available() else 'cpu'\n",
        "  print(device)\n",
        "  decoder = decoder.to(device)\n",
        "  encoder = encoder.to(device)\n",
        "\n",
        "  train_on_gpu = torch.cuda.is_available()\n",
        "\n",
        "  #decoder loss function\n",
        "  criterion = nn.MSELoss()\n",
        "  criterion = criterion.to(device)\n",
        "\n",
        "  num_workers = 0\n",
        "\n",
        "  #torch.Tensor returns float so if want long then use torch.tensor\n",
        "  tensor_x = torch.from_numpy(X_train.copy())#torch.Tensor(X_train)\n",
        "  tensor_y = torch.tensor(y_train,dtype=torch.long)\n",
        "  mnist_bal = TensorDataset(tensor_x,tensor_y) \n",
        "  train_loader = torch.utils.data.DataLoader(mnist_bal, \n",
        "      batch_size=batch_size,shuffle=True,num_workers=num_workers)\n",
        "\n",
        "  best_loss = np.inf\n",
        "\n",
        "  enc_optim = torch.optim.Adam(encoder.parameters(), lr = args['lr'])\n",
        "  dec_optim = torch.optim.Adam(decoder.parameters(), lr = args['lr'])\n",
        "\n",
        "  for epoch in range(args['epochs']):\n",
        "      train_loss = 0.0\n",
        "      tmse_loss = 0.0\n",
        "      tdiscr_loss = 0.0\n",
        "      # train for one epoch -- set nets to train mode\n",
        "      encoder.train()\n",
        "      decoder.train()\n",
        "  \n",
        "      for images,labs in train_loader:\n",
        "      \n",
        "          # zero gradients for each batch\n",
        "          encoder.zero_grad()\n",
        "          decoder.zero_grad()\n",
        "          images, labs = images.to(device), labs.to(device)\n",
        "          labsn = labs.detach().cpu().numpy()\n",
        "#            print('images shape', images.shape)\n",
        "          # run images\n",
        "          z_hat = encoder(images)\n",
        "#            print('images shape after encoding', z_hat.shape)\n",
        "      \n",
        "          x_hat = decoder(z_hat) #decoder outputs tanh\n",
        "#            print('images shape after decoding', x_hat.shape)\n",
        "          mse = criterion(x_hat,images)\n",
        "                  \n",
        "          resx = []\n",
        "          resy = []\n",
        "      \n",
        "          tc = np.random.choice(num_classes,1)\n",
        "          #tc = 9\n",
        "          xbeg = X_train[y_train == tc]\n",
        "          ybeg = y_train[y_train == tc] \n",
        "          xlen = len(xbeg)\n",
        "          nsamp = min(xlen, 100)\n",
        "          ind = np.random.choice(list(range(len(xbeg))),nsamp,replace=False)\n",
        "          xclass = xbeg[ind]\n",
        "          yclass = ybeg[ind]\n",
        "      \n",
        "          xclen = len(xclass)\n",
        "          xcminus = np.arange(1,xclen)\n",
        "          \n",
        "          xcplus = np.append(xcminus,0)\n",
        "          xcnew = (xclass[[xcplus],:])\n",
        "          xcnew = xcnew.reshape(xcnew.shape[1],xcnew.shape[2],xcnew.shape[3],xcnew.shape[4])\n",
        "      \n",
        "          xcnew = torch.Tensor(xcnew)\n",
        "          xcnew = xcnew.to(device)\n",
        "      \n",
        "          #encode xclass to feature space\n",
        "          xclass = torch.Tensor(xclass)\n",
        "          xclass = xclass.to(device)\n",
        "          xclass = encoder(xclass)\n",
        "      \n",
        "          xclass = xclass.detach().cpu().numpy()\n",
        "      \n",
        "          xc_enc = (xclass[[xcplus],:])\n",
        "          xc_enc = np.squeeze(xc_enc)\n",
        "      \n",
        "          xc_enc = torch.Tensor(xc_enc)\n",
        "          xc_enc = xc_enc.to(device)\n",
        "          \n",
        "          ximg = decoder(xc_enc)\n",
        "          \n",
        "          mse2 = criterion(ximg,xcnew)\n",
        "      \n",
        "          comb_loss = mse2 + mse\n",
        "          comb_loss.backward()\n",
        "      \n",
        "          enc_optim.step()\n",
        "          dec_optim.step()\n",
        "      \n",
        "          train_loss += comb_loss.item()*images.size(0)\n",
        "          tmse_loss += mse.item()*images.size(0)\n",
        "          tdiscr_loss += mse2.item()*images.size(0)\n",
        "\n",
        "      train_loss = train_loss/len(train_loader)\n",
        "      tmse_loss = tmse_loss/len(train_loader)\n",
        "      tdiscr_loss = tdiscr_loss/len(train_loader)\n",
        "      print('Epoch: {} \\tTrain Loss: {:.6f} \\tmse loss: {:.6f} \\tmse2 loss: {:.6f}'.format(epoch,\n",
        "              train_loss,tmse_loss,tdiscr_loss))\n",
        "      \n",
        "  \n",
        "  \n",
        "      #store the best encoder and decoder models\n",
        "      #here, /crs5 is a reference to 5 way cross validation, but is not\n",
        "      #necessary for illustration purposes\n",
        "      if train_loss < best_loss:\n",
        "          print('Saving..')\n",
        "          patience = args['patience']\n",
        "          path_enc = '/content/drive/MyDrive/PHD/Model/DeepSMOTE/32/bst_enc.pth'\n",
        "          path_dec = '/content/drive/MyDrive/PHD/Model/DeepSMOTE/32/bst_dec.pth'\n",
        "        \n",
        "          torch.save(encoder.state_dict(), path_enc)\n",
        "          torch.save(decoder.state_dict(), path_dec)\n",
        "  \n",
        "          best_loss = train_loss\n",
        "      else:\n",
        "          patience = patience - 1\n",
        "\n",
        "      if patience == 0:\n",
        "          print('Out of patience. \\n')\n",
        "          break\n",
        "\n",
        "def DeepSMOTE_Data(X_train, y_train, one_hot = False):\n",
        "  batch_size = args['batch_size']\n",
        "  max_el = np.max(X_train)\n",
        "  X_train = X_train / max_el\n",
        "  X_train = moveaxis(X_train, 3, 1)\n",
        "  if one_hot:\n",
        "    y_train = np.argmax(y_train, axis=1)\n",
        "  #Generate artificial images\n",
        "  import torch\n",
        "  np.printoptions(precision=5,suppress=True)\n",
        "\n",
        "  #path on the computer where the models are stored\n",
        "  modpth = '/content/drive/MyDrive/PHD/Model/DeepSMOTE/32/'\n",
        "\n",
        "  path_enc = modpth + '/bst_enc.pth'\n",
        "  path_dec = modpth + '/bst_dec.pth'\n",
        "  \n",
        "  train_on_gpu = torch.cuda.is_available()\n",
        "  device = 'cuda' if torch.cuda.is_available() else 'cpu'\n",
        "\n",
        "  encoder = Encoder(args)\n",
        "  encoder.load_state_dict(torch.load(path_enc), strict=False)\n",
        "  encoder = encoder.to(device)\n",
        "\n",
        "  decoder = Decoder(args)\n",
        "  decoder.load_state_dict(torch.load(path_dec), strict=False)\n",
        "  decoder = decoder.to(device)\n",
        "\n",
        "  encoder.eval()\n",
        "  decoder.eval()\n",
        "\n",
        "  resx = []\n",
        "  resy = []\n",
        "  \n",
        "  counter = Counter(y_train)\n",
        "  counter = sorted(counter.items())\n",
        "  counter = [value for _, value in counter]\n",
        "\n",
        "  for i in range(num_classes):\n",
        "      torch.cuda.empty_cache()\n",
        "\n",
        "      xclass, yclass = biased_get_class(X_train, y_train, i)\n",
        "      #encode xclass to feature space\n",
        "      xclass = torch.Tensor(xclass)\n",
        "      xclass = xclass.to(device)\n",
        "      xclass = encoder(xclass)\n",
        "          \n",
        "      xclass = xclass.detach().cpu().numpy()\n",
        "      n = np.max(counter) - counter[i]\n",
        "      if n == 0:\n",
        "        continue\n",
        "#        resx2 = []\n",
        "#        resy2 = []\n",
        "#        for j in range(batch_size, n+batch_size+1, batch_size):\n",
        "#          if j <= n:\n",
        "#            batch_size_max = batch_size\n",
        "#          elif n % batch_size != 0:\n",
        "#            batch_size_max = n%batch_size\n",
        "#          else:\n",
        "#            break\n",
        "#          xsamp, ysamp = G_SM(xclass,yclass,batch_size_max,i)\n",
        "      xsamp, ysamp = G_SM(xclass,yclass,n,i)\n",
        "      ysamp = np.array(ysamp)\n",
        "  \n",
        "      \"\"\"to generate samples for resnet\"\"\"   \n",
        "      xsamp = torch.Tensor(xsamp)\n",
        "      xsamp = xsamp.to(device)\n",
        "      ximg = decoder(xsamp)\n",
        "\n",
        "      ximn = ximg.detach().cpu().numpy()\n",
        "#        resx2.append(ximn)\n",
        "#        resy2.append(ysamp)\n",
        "#        \n",
        "#        resx2 = np.vstack(resx2)\n",
        "#        resy2 = np.hstack(resy2)\n",
        "      resx.append(ximn)\n",
        "      resy.append(ysamp)\n",
        "  \n",
        "  resx1 = np.vstack(resx)\n",
        "  resy1 = np.hstack(resy)\n",
        "  resx1 = resx1.reshape(resx1.shape[0],-1)\n",
        "  X_train = X_train.reshape(X_train.shape[0],-1)\n",
        "  X_train = np.vstack((resx1,X_train))\n",
        "  y_train = np.hstack((resy1,y_train))\n",
        "  y_train = to_categorical(y_train)\n",
        "  X_train = X_train.reshape(-1, 3, IMAGE_W, IMAGE_H)\n",
        "  X_train = moveaxis(X_train, 1, 3)\n",
        "  X_train = X_train * max_el\n",
        "  return X_train, y_train"
      ]
    },
    {
      "cell_type": "markdown",
      "metadata": {
        "id": "0jrJ33lUDkCM"
      },
      "source": [
        "#Split dataset to train and val"
      ]
    },
    {
      "cell_type": "code",
      "execution_count": null,
      "metadata": {
        "colab": {
          "base_uri": "https://localhost:8080/"
        },
        "id": "e6qneWL_Bs2U",
        "outputId": "cc7899de-f169-4850-dbe2-44ffb5a994d8"
      },
      "outputs": [
        {
          "output_type": "stream",
          "name": "stdout",
          "text": [
            "Train Data:  (11261, 224, 224, 3)\n",
            "Remaining Data:  (2816, 224, 224, 3)\n"
          ]
        }
      ],
      "source": [
        "# stratified train and rem (20%) datasets\n",
        "from sklearn.model_selection import train_test_split\n",
        "X_train, X_val, y_train, y_val = train_test_split(X_train, y_train, test_size=0.2, stratify=y_train, random_state=1)\n",
        "\n",
        "print('Train Data: ', X_train.shape)\n",
        "print('Remaining Data: ', X_val.shape)"
      ]
    },
    {
      "cell_type": "code",
      "execution_count": null,
      "metadata": {
        "id": "8Kef4r_zxjgk"
      },
      "outputs": [],
      "source": [
        "#Data Augmentation\n",
        "dataaugment = ImageDataGenerator(\n",
        "        rotation_range=90,  # randomly rotate images in the range (degrees, 0 to 180)\n",
        "        zoom_range = 0.1, # Randomly zoom image \n",
        "        width_shift_range=0.1,  # randomly shift images horizontally (fraction of total width)\n",
        "        height_shift_range=0.1,  # randomly shift images vertically (fraction of total height)\n",
        "        horizontal_flip=True,  # randomly flip images\n",
        "        vertical_flip=True,  # randomly flip images\n",
        "        shear_range = 10) \n",
        "\n",
        "dataaugment.fit(X_train)"
      ]
    },
    {
      "cell_type": "markdown",
      "metadata": {
        "id": "B2PgksTFkOAq"
      },
      "source": [
        "#Fine Tune"
      ]
    },
    {
      "cell_type": "code",
      "execution_count": null,
      "metadata": {
        "id": "Nr1jnSM7yzJc"
      },
      "outputs": [],
      "source": [
        "limit = 171\n",
        "for layer in model.layers[:limit]:\n",
        "   layer.trainable = False\n",
        "for layer in model.layers[limit:]:\n",
        "   layer.trainable = True\n",
        "\n",
        "optimizer_SGD = SGD(learning_rate=0.0001, momentum=0.9)\n",
        "model.compile(optimizer = optimizer_SGD , loss = \"categorical_crossentropy\", metrics=['accuracy', balanced_acc])\n",
        "hst2 = model.fit(train_data_batches,\n",
        "                    epochs = EPOCHS, validation_data = valid_data_batches,\n",
        "                    callbacks=[learning_rate_reduction,early_stopping_monitor, mc])\n"
      ]
    },
    {
      "cell_type": "code",
      "execution_count": null,
      "metadata": {
        "id": "vO1aAQBmiy0K"
      },
      "outputs": [],
      "source": [
        "# summarize history for accuracy\n",
        "plt.plot(hst2.history['balanced_acc'])\n",
        "plt.plot(hst2.history['val_balanced_acc'])\n",
        "plt.title('model balance_acc after tunning')\n",
        "plt.ylabel('accuracy')\n",
        "plt.xlabel('epoch')\n",
        "plt.legend(['train', 'val'], loc='upper left')\n",
        "plt.show()"
      ]
    }
  ],
  "metadata": {
    "accelerator": "GPU",
    "colab": {
      "collapsed_sections": [
        "3K908bbiYwbS",
        "RcRGeofw-8tK",
        "cNBXx28B9yGu",
        "0jrJ33lUDkCM",
        "B2PgksTFkOAq"
      ],
      "machine_shape": "hm",
      "provenance": [],
      "include_colab_link": true
    },
    "gpuClass": "standard",
    "kernelspec": {
      "display_name": "Python 3",
      "name": "python3"
    },
    "language_info": {
      "name": "python"
    }
  },
  "nbformat": 4,
  "nbformat_minor": 0
}